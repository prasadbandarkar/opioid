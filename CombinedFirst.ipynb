{
 "cells": [
  {
   "cell_type": "code",
   "execution_count": 1,
   "metadata": {},
   "outputs": [],
   "source": [
    "import pandas as pd\n",
    "import numpy as np\n",
    "import matplotlib.pyplot as plt\n",
    "import seaborn as sns"
   ]
  },
  {
   "cell_type": "code",
   "execution_count": 2,
   "metadata": {},
   "outputs": [],
   "source": [
    "import pickle\n",
    "with open('pivot4years.pkl','rb') as pkldfile :\n",
    "    pivotByYear=pickle.load(pkldfile)"
   ]
  },
  {
   "cell_type": "code",
   "execution_count": 3,
   "metadata": {},
   "outputs": [
    {
     "ename": "AttributeError",
     "evalue": "'dict' object has no attribute 'head'",
     "output_type": "error",
     "traceback": [
      "\u001b[0;31m---------------------------------------------------------------------------\u001b[0m",
      "\u001b[0;31mAttributeError\u001b[0m                            Traceback (most recent call last)",
      "\u001b[0;32m<ipython-input-3-011e774e7b8f>\u001b[0m in \u001b[0;36m<module>\u001b[0;34m\u001b[0m\n\u001b[0;32m----> 1\u001b[0;31m \u001b[0mpivotByYear\u001b[0m\u001b[0;34m.\u001b[0m\u001b[0mhead\u001b[0m\u001b[0;34m(\u001b[0m\u001b[0;34m)\u001b[0m\u001b[0;34m\u001b[0m\u001b[0;34m\u001b[0m\u001b[0m\n\u001b[0m",
      "\u001b[0;31mAttributeError\u001b[0m: 'dict' object has no attribute 'head'"
     ]
    }
   ],
   "source": [
    "pivotByYear.head()"
   ]
  },
  {
   "cell_type": "code",
   "execution_count": 4,
   "metadata": {},
   "outputs": [
    {
     "name": "stdout",
     "output_type": "stream",
     "text": [
      "(1845, 1)\n",
      "(1839, 1)\n",
      "(1837, 1)\n",
      "(1840, 1)\n",
      "(1837, 1)\n",
      "(1840, 1)\n",
      "(1845, 1)\n"
     ]
    }
   ],
   "source": [
    "for i in pivotByYear.keys() : print(pivotByYear[i].shape) "
   ]
  },
  {
   "cell_type": "code",
   "execution_count": 5,
   "metadata": {},
   "outputs": [],
   "source": [
    "import geopandas as gpd\n",
    "smallcounties = gpd.read_file('cb_2018_us_county_500k/cb_2018_us_county_500k.shp')\n"
   ]
  },
  {
   "cell_type": "code",
   "execution_count": 6,
   "metadata": {},
   "outputs": [],
   "source": [
    "state_dict={ '25':'Massachusetts', '09':'Connecticut' , '23':'Maine', '33':'New Hampshire', '50':'Vermont' ,'44':'Rhode Island'  }\n",
    "necounties=smallcounties[smallcounties['STATEFP'].isin(state_dict.keys())].copy()"
   ]
  },
  {
   "cell_type": "code",
   "execution_count": 7,
   "metadata": {},
   "outputs": [],
   "source": [
    "for i in pivotByYear.keys():\n",
    "    pivotByYear[i].index=pivotByYear[i].index.str.title()"
   ]
  },
  {
   "cell_type": "code",
   "execution_count": 8,
   "metadata": {},
   "outputs": [],
   "source": [
    "geoOPyear=dict()\n",
    "for i in pivotByYear.keys():\n",
    "    geoOPyear[i]=necounties.merge(pivotByYear[i],left_on='NAME',right_on='BUYER_COUNTY')\n",
    "    geoOPyear[i].drop(columns=['ALAND','AWATER'])"
   ]
  },
  {
   "cell_type": "code",
   "execution_count": 9,
   "metadata": {
    "collapsed": true,
    "jupyter": {
     "outputs_hidden": true
    }
   },
   "outputs": [
    {
     "name": "stdout",
     "output_type": "stream",
     "text": [
      "(67, 11)\n",
      "(67, 11)\n",
      "(67, 11)\n",
      "(67, 11)\n",
      "(67, 11)\n",
      "(67, 11)\n",
      "(67, 11)\n"
     ]
    }
   ],
   "source": [
    "for i in geoOPyear.keys() : print(geoOPyear[i].shape) "
   ]
  },
  {
   "cell_type": "code",
   "execution_count": 10,
   "metadata": {
    "collapsed": true,
    "jupyter": {
     "outputs_hidden": true
    }
   },
   "outputs": [
    {
     "name": "stdout",
     "output_type": "stream",
     "text": [
      "TRANSACTION_DATE\n",
      "2006    0\n",
      "dtype: int64\n",
      "TRANSACTION_DATE\n",
      "2007    0\n",
      "dtype: int64\n",
      "TRANSACTION_DATE\n",
      "2008    0\n",
      "dtype: int64\n",
      "TRANSACTION_DATE\n",
      "2009    0\n",
      "dtype: int64\n",
      "TRANSACTION_DATE\n",
      "2010    0\n",
      "dtype: int64\n",
      "TRANSACTION_DATE\n",
      "2011    0\n",
      "dtype: int64\n",
      "TRANSACTION_DATE\n",
      "2012    0\n",
      "dtype: int64\n"
     ]
    }
   ],
   "source": [
    "for i in pivotByYear.keys() : print(pivotByYear[i].isna().sum()) "
   ]
  },
  {
   "cell_type": "code",
   "execution_count": 11,
   "metadata": {},
   "outputs": [],
   "source": [
    "for i in geoOPyear.keys():\n",
    "    geoOPyear[i]['inMillions']=geoOPyear[i][int(i)].divide(10**6)"
   ]
  },
  {
   "cell_type": "code",
   "execution_count": 12,
   "metadata": {},
   "outputs": [],
   "source": [
    "death_dtypes={'Year':int,'County':str,'Notes':str,'County Code':int,'Year Code':int , 'Deaths':pd.Int32Dtype(),'Population':int,'Crude Rate':float }\n",
    "deaths=pd.read_csv('MCDNewEngland20062012.tsv',sep='\\t',index_col=['County','Year'],dtype=death_dtypes, na_values=['Suppressed','Unreliable'])"
   ]
  },
  {
   "cell_type": "code",
   "execution_count": 13,
   "metadata": {},
   "outputs": [],
   "source": [
    "deathspivot=deaths['Deaths'].unstack()"
   ]
  },
  {
   "cell_type": "code",
   "execution_count": 14,
   "metadata": {
    "collapsed": true,
    "jupyter": {
     "outputs_hidden": true
    }
   },
   "outputs": [
    {
     "data": {
      "text/html": [
       "<div>\n",
       "<style scoped>\n",
       "    .dataframe tbody tr th:only-of-type {\n",
       "        vertical-align: middle;\n",
       "    }\n",
       "\n",
       "    .dataframe tbody tr th {\n",
       "        vertical-align: top;\n",
       "    }\n",
       "\n",
       "    .dataframe thead th {\n",
       "        text-align: right;\n",
       "    }\n",
       "</style>\n",
       "<table border=\"1\" class=\"dataframe\">\n",
       "  <thead>\n",
       "    <tr style=\"text-align: right;\">\n",
       "      <th>Year</th>\n",
       "      <th>2006</th>\n",
       "      <th>2007</th>\n",
       "      <th>2008</th>\n",
       "      <th>2009</th>\n",
       "      <th>2010</th>\n",
       "      <th>2011</th>\n",
       "      <th>2012</th>\n",
       "    </tr>\n",
       "    <tr>\n",
       "      <th>County</th>\n",
       "      <th></th>\n",
       "      <th></th>\n",
       "      <th></th>\n",
       "      <th></th>\n",
       "      <th></th>\n",
       "      <th></th>\n",
       "      <th></th>\n",
       "    </tr>\n",
       "  </thead>\n",
       "  <tbody>\n",
       "    <tr>\n",
       "      <td>Addison County, VT</td>\n",
       "      <td>NaN</td>\n",
       "      <td>NaN</td>\n",
       "      <td>NaN</td>\n",
       "      <td>NaN</td>\n",
       "      <td>NaN</td>\n",
       "      <td>NaN</td>\n",
       "      <td>NaN</td>\n",
       "    </tr>\n",
       "    <tr>\n",
       "      <td>Androscoggin County, ME</td>\n",
       "      <td>NaN</td>\n",
       "      <td>NaN</td>\n",
       "      <td>NaN</td>\n",
       "      <td>10</td>\n",
       "      <td>11</td>\n",
       "      <td>NaN</td>\n",
       "      <td>NaN</td>\n",
       "    </tr>\n",
       "    <tr>\n",
       "      <td>Aroostook County, ME</td>\n",
       "      <td>NaN</td>\n",
       "      <td>NaN</td>\n",
       "      <td>NaN</td>\n",
       "      <td>NaN</td>\n",
       "      <td>NaN</td>\n",
       "      <td>NaN</td>\n",
       "      <td>NaN</td>\n",
       "    </tr>\n",
       "    <tr>\n",
       "      <td>Barnstable County, MA</td>\n",
       "      <td>22</td>\n",
       "      <td>29</td>\n",
       "      <td>22</td>\n",
       "      <td>20</td>\n",
       "      <td>20</td>\n",
       "      <td>16</td>\n",
       "      <td>19</td>\n",
       "    </tr>\n",
       "    <tr>\n",
       "      <td>Belknap County, NH</td>\n",
       "      <td>NaN</td>\n",
       "      <td>12</td>\n",
       "      <td>10</td>\n",
       "      <td>NaN</td>\n",
       "      <td>NaN</td>\n",
       "      <td>NaN</td>\n",
       "      <td>NaN</td>\n",
       "    </tr>\n",
       "  </tbody>\n",
       "</table>\n",
       "</div>"
      ],
      "text/plain": [
       "Year                     2006  2007  2008  2009  2010  2011  2012\n",
       "County                                                           \n",
       "Addison County, VT        NaN   NaN   NaN   NaN   NaN   NaN   NaN\n",
       "Androscoggin County, ME   NaN   NaN   NaN    10    11   NaN   NaN\n",
       "Aroostook County, ME      NaN   NaN   NaN   NaN   NaN   NaN   NaN\n",
       "Barnstable County, MA      22    29    22    20    20    16    19\n",
       "Belknap County, NH        NaN    12    10   NaN   NaN   NaN   NaN"
      ]
     },
     "execution_count": 14,
     "metadata": {},
     "output_type": "execute_result"
    }
   ],
   "source": [
    "deathspivot.head()"
   ]
  },
  {
   "cell_type": "code",
   "execution_count": 15,
   "metadata": {},
   "outputs": [],
   "source": [
    "deathspivot['CName']=deathspivot.index.str.split().str.get(0)"
   ]
  },
  {
   "cell_type": "code",
   "execution_count": 16,
   "metadata": {},
   "outputs": [
    {
     "data": {
      "text/html": [
       "<div>\n",
       "<style scoped>\n",
       "    .dataframe tbody tr th:only-of-type {\n",
       "        vertical-align: middle;\n",
       "    }\n",
       "\n",
       "    .dataframe tbody tr th {\n",
       "        vertical-align: top;\n",
       "    }\n",
       "\n",
       "    .dataframe thead th {\n",
       "        text-align: right;\n",
       "    }\n",
       "</style>\n",
       "<table border=\"1\" class=\"dataframe\">\n",
       "  <thead>\n",
       "    <tr style=\"text-align: right;\">\n",
       "      <th>Year</th>\n",
       "      <th>2006</th>\n",
       "      <th>2007</th>\n",
       "      <th>2008</th>\n",
       "      <th>2009</th>\n",
       "      <th>2010</th>\n",
       "      <th>2011</th>\n",
       "      <th>2012</th>\n",
       "      <th>CName</th>\n",
       "    </tr>\n",
       "    <tr>\n",
       "      <th>County</th>\n",
       "      <th></th>\n",
       "      <th></th>\n",
       "      <th></th>\n",
       "      <th></th>\n",
       "      <th></th>\n",
       "      <th></th>\n",
       "      <th></th>\n",
       "      <th></th>\n",
       "    </tr>\n",
       "  </thead>\n",
       "  <tbody>\n",
       "    <tr>\n",
       "      <td>Addison County, VT</td>\n",
       "      <td>NaN</td>\n",
       "      <td>NaN</td>\n",
       "      <td>NaN</td>\n",
       "      <td>NaN</td>\n",
       "      <td>NaN</td>\n",
       "      <td>NaN</td>\n",
       "      <td>NaN</td>\n",
       "      <td>Addison</td>\n",
       "    </tr>\n",
       "    <tr>\n",
       "      <td>Androscoggin County, ME</td>\n",
       "      <td>NaN</td>\n",
       "      <td>NaN</td>\n",
       "      <td>NaN</td>\n",
       "      <td>10</td>\n",
       "      <td>11</td>\n",
       "      <td>NaN</td>\n",
       "      <td>NaN</td>\n",
       "      <td>Androscoggin</td>\n",
       "    </tr>\n",
       "    <tr>\n",
       "      <td>Aroostook County, ME</td>\n",
       "      <td>NaN</td>\n",
       "      <td>NaN</td>\n",
       "      <td>NaN</td>\n",
       "      <td>NaN</td>\n",
       "      <td>NaN</td>\n",
       "      <td>NaN</td>\n",
       "      <td>NaN</td>\n",
       "      <td>Aroostook</td>\n",
       "    </tr>\n",
       "    <tr>\n",
       "      <td>Barnstable County, MA</td>\n",
       "      <td>22</td>\n",
       "      <td>29</td>\n",
       "      <td>22</td>\n",
       "      <td>20</td>\n",
       "      <td>20</td>\n",
       "      <td>16</td>\n",
       "      <td>19</td>\n",
       "      <td>Barnstable</td>\n",
       "    </tr>\n",
       "    <tr>\n",
       "      <td>Belknap County, NH</td>\n",
       "      <td>NaN</td>\n",
       "      <td>12</td>\n",
       "      <td>10</td>\n",
       "      <td>NaN</td>\n",
       "      <td>NaN</td>\n",
       "      <td>NaN</td>\n",
       "      <td>NaN</td>\n",
       "      <td>Belknap</td>\n",
       "    </tr>\n",
       "  </tbody>\n",
       "</table>\n",
       "</div>"
      ],
      "text/plain": [
       "Year                     2006  2007  2008  2009  2010  2011  2012  \\\n",
       "County                                                              \n",
       "Addison County, VT        NaN   NaN   NaN   NaN   NaN   NaN   NaN   \n",
       "Androscoggin County, ME   NaN   NaN   NaN    10    11   NaN   NaN   \n",
       "Aroostook County, ME      NaN   NaN   NaN   NaN   NaN   NaN   NaN   \n",
       "Barnstable County, MA      22    29    22    20    20    16    19   \n",
       "Belknap County, NH        NaN    12    10   NaN   NaN   NaN   NaN   \n",
       "\n",
       "Year                            CName  \n",
       "County                                 \n",
       "Addison County, VT            Addison  \n",
       "Androscoggin County, ME  Androscoggin  \n",
       "Aroostook County, ME        Aroostook  \n",
       "Barnstable County, MA      Barnstable  \n",
       "Belknap County, NH            Belknap  "
      ]
     },
     "execution_count": 16,
     "metadata": {},
     "output_type": "execute_result"
    }
   ],
   "source": [
    "deathspivot.head()"
   ]
  },
  {
   "cell_type": "code",
   "execution_count": 20,
   "metadata": {},
   "outputs": [
    {
     "data": {
      "text/plain": [
       "dict_keys(['2006', '2007', '2008', '2009', '2010', '2011', '2012'])"
      ]
     },
     "execution_count": 20,
     "metadata": {},
     "output_type": "execute_result"
    }
   ],
   "source": [
    "geoOPyear.keys()"
   ]
  },
  {
   "cell_type": "code",
   "execution_count": 25,
   "metadata": {},
   "outputs": [
    {
     "data": {
      "text/html": [
       "<div>\n",
       "<style scoped>\n",
       "    .dataframe tbody tr th:only-of-type {\n",
       "        vertical-align: middle;\n",
       "    }\n",
       "\n",
       "    .dataframe tbody tr th {\n",
       "        vertical-align: top;\n",
       "    }\n",
       "\n",
       "    .dataframe thead th {\n",
       "        text-align: right;\n",
       "    }\n",
       "</style>\n",
       "<table border=\"1\" class=\"dataframe\">\n",
       "  <thead>\n",
       "    <tr style=\"text-align: right;\">\n",
       "      <th></th>\n",
       "      <th>STATEFP</th>\n",
       "      <th>COUNTYFP</th>\n",
       "      <th>COUNTYNS</th>\n",
       "      <th>AFFGEOID</th>\n",
       "      <th>GEOID</th>\n",
       "      <th>NAME</th>\n",
       "      <th>LSAD</th>\n",
       "      <th>ALAND</th>\n",
       "      <th>AWATER</th>\n",
       "      <th>geometry</th>\n",
       "      <th>2006</th>\n",
       "      <th>inMillions</th>\n",
       "    </tr>\n",
       "  </thead>\n",
       "  <tbody>\n",
       "    <tr>\n",
       "      <td>0</td>\n",
       "      <td>09</td>\n",
       "      <td>009</td>\n",
       "      <td>00212798</td>\n",
       "      <td>0500000US09009</td>\n",
       "      <td>09009</td>\n",
       "      <td>New Haven</td>\n",
       "      <td>06</td>\n",
       "      <td>1565688367</td>\n",
       "      <td>667081242</td>\n",
       "      <td>MULTIPOLYGON (((-72.76143 41.24233, -72.75973 ...</td>\n",
       "      <td>24486606.0</td>\n",
       "      <td>24.486606</td>\n",
       "    </tr>\n",
       "    <tr>\n",
       "      <td>1</td>\n",
       "      <td>23</td>\n",
       "      <td>013</td>\n",
       "      <td>00581292</td>\n",
       "      <td>0500000US23013</td>\n",
       "      <td>23013</td>\n",
       "      <td>Knox</td>\n",
       "      <td>06</td>\n",
       "      <td>945684684</td>\n",
       "      <td>2017116243</td>\n",
       "      <td>MULTIPOLYGON (((-68.55926 44.04502, -68.55504 ...</td>\n",
       "      <td>34936280.0</td>\n",
       "      <td>34.936280</td>\n",
       "    </tr>\n",
       "    <tr>\n",
       "      <td>2</td>\n",
       "      <td>23</td>\n",
       "      <td>015</td>\n",
       "      <td>00581293</td>\n",
       "      <td>0500000US23015</td>\n",
       "      <td>23015</td>\n",
       "      <td>Lincoln</td>\n",
       "      <td>06</td>\n",
       "      <td>1180688991</td>\n",
       "      <td>631299424</td>\n",
       "      <td>MULTIPOLYGON (((-69.32357 43.75899, -69.32114 ...</td>\n",
       "      <td>19294160.0</td>\n",
       "      <td>19.294160</td>\n",
       "    </tr>\n",
       "    <tr>\n",
       "      <td>3</td>\n",
       "      <td>25</td>\n",
       "      <td>001</td>\n",
       "      <td>00606927</td>\n",
       "      <td>0500000US25001</td>\n",
       "      <td>25001</td>\n",
       "      <td>Barnstable</td>\n",
       "      <td>06</td>\n",
       "      <td>1021048430</td>\n",
       "      <td>2360287543</td>\n",
       "      <td>POLYGON ((-70.68698 41.52949, -70.68327 41.532...</td>\n",
       "      <td>6526795.0</td>\n",
       "      <td>6.526795</td>\n",
       "    </tr>\n",
       "    <tr>\n",
       "      <td>4</td>\n",
       "      <td>25</td>\n",
       "      <td>013</td>\n",
       "      <td>00606933</td>\n",
       "      <td>0500000US25013</td>\n",
       "      <td>25013</td>\n",
       "      <td>Hampden</td>\n",
       "      <td>06</td>\n",
       "      <td>1597996708</td>\n",
       "      <td>44417070</td>\n",
       "      <td>POLYGON ((-73.07484 42.10615, -73.07305 42.106...</td>\n",
       "      <td>13992080.0</td>\n",
       "      <td>13.992080</td>\n",
       "    </tr>\n",
       "  </tbody>\n",
       "</table>\n",
       "</div>"
      ],
      "text/plain": [
       "  STATEFP COUNTYFP  COUNTYNS        AFFGEOID  GEOID        NAME LSAD  \\\n",
       "0      09      009  00212798  0500000US09009  09009   New Haven   06   \n",
       "1      23      013  00581292  0500000US23013  23013        Knox   06   \n",
       "2      23      015  00581293  0500000US23015  23015     Lincoln   06   \n",
       "3      25      001  00606927  0500000US25001  25001  Barnstable   06   \n",
       "4      25      013  00606933  0500000US25013  25013     Hampden   06   \n",
       "\n",
       "        ALAND      AWATER                                           geometry  \\\n",
       "0  1565688367   667081242  MULTIPOLYGON (((-72.76143 41.24233, -72.75973 ...   \n",
       "1   945684684  2017116243  MULTIPOLYGON (((-68.55926 44.04502, -68.55504 ...   \n",
       "2  1180688991   631299424  MULTIPOLYGON (((-69.32357 43.75899, -69.32114 ...   \n",
       "3  1021048430  2360287543  POLYGON ((-70.68698 41.52949, -70.68327 41.532...   \n",
       "4  1597996708    44417070  POLYGON ((-73.07484 42.10615, -73.07305 42.106...   \n",
       "\n",
       "         2006  inMillions  \n",
       "0  24486606.0   24.486606  \n",
       "1  34936280.0   34.936280  \n",
       "2  19294160.0   19.294160  \n",
       "3   6526795.0    6.526795  \n",
       "4  13992080.0   13.992080  "
      ]
     },
     "execution_count": 25,
     "metadata": {},
     "output_type": "execute_result"
    }
   ],
   "source": [
    "geoOPyear['2006'].head()"
   ]
  },
  {
   "cell_type": "code",
   "execution_count": 31,
   "metadata": {},
   "outputs": [
    {
     "data": {
      "text/plain": [
       "Index([2006, 2007, 2008, 2009, 2010, 2011, 2012, 'CName'], dtype='object', name='Year')"
      ]
     },
     "execution_count": 31,
     "metadata": {},
     "output_type": "execute_result"
    }
   ],
   "source": [
    "deathspivot.columns"
   ]
  },
  {
   "cell_type": "code",
   "execution_count": 35,
   "metadata": {},
   "outputs": [
    {
     "data": {
      "text/html": [
       "<div>\n",
       "<style scoped>\n",
       "    .dataframe tbody tr th:only-of-type {\n",
       "        vertical-align: middle;\n",
       "    }\n",
       "\n",
       "    .dataframe tbody tr th {\n",
       "        vertical-align: top;\n",
       "    }\n",
       "\n",
       "    .dataframe thead th {\n",
       "        text-align: right;\n",
       "    }\n",
       "</style>\n",
       "<table border=\"1\" class=\"dataframe\">\n",
       "  <thead>\n",
       "    <tr style=\"text-align: right;\">\n",
       "      <th>Year</th>\n",
       "      <th>2006</th>\n",
       "      <th>CName</th>\n",
       "    </tr>\n",
       "    <tr>\n",
       "      <th>County</th>\n",
       "      <th></th>\n",
       "      <th></th>\n",
       "    </tr>\n",
       "  </thead>\n",
       "  <tbody>\n",
       "    <tr>\n",
       "      <td>Addison County, VT</td>\n",
       "      <td>NaN</td>\n",
       "      <td>Addison</td>\n",
       "    </tr>\n",
       "    <tr>\n",
       "      <td>Androscoggin County, ME</td>\n",
       "      <td>NaN</td>\n",
       "      <td>Androscoggin</td>\n",
       "    </tr>\n",
       "    <tr>\n",
       "      <td>Aroostook County, ME</td>\n",
       "      <td>NaN</td>\n",
       "      <td>Aroostook</td>\n",
       "    </tr>\n",
       "    <tr>\n",
       "      <td>Barnstable County, MA</td>\n",
       "      <td>22</td>\n",
       "      <td>Barnstable</td>\n",
       "    </tr>\n",
       "    <tr>\n",
       "      <td>Belknap County, NH</td>\n",
       "      <td>NaN</td>\n",
       "      <td>Belknap</td>\n",
       "    </tr>\n",
       "    <tr>\n",
       "      <td>...</td>\n",
       "      <td>...</td>\n",
       "      <td>...</td>\n",
       "    </tr>\n",
       "    <tr>\n",
       "      <td>Windham County, CT</td>\n",
       "      <td>10</td>\n",
       "      <td>Windham</td>\n",
       "    </tr>\n",
       "    <tr>\n",
       "      <td>Windham County, VT</td>\n",
       "      <td>NaN</td>\n",
       "      <td>Windham</td>\n",
       "    </tr>\n",
       "    <tr>\n",
       "      <td>Windsor County, VT</td>\n",
       "      <td>NaN</td>\n",
       "      <td>Windsor</td>\n",
       "    </tr>\n",
       "    <tr>\n",
       "      <td>Worcester County, MA</td>\n",
       "      <td>72</td>\n",
       "      <td>Worcester</td>\n",
       "    </tr>\n",
       "    <tr>\n",
       "      <td>York County, ME</td>\n",
       "      <td>17</td>\n",
       "      <td>York</td>\n",
       "    </tr>\n",
       "  </tbody>\n",
       "</table>\n",
       "<p>67 rows × 2 columns</p>\n",
       "</div>"
      ],
      "text/plain": [
       "Year                     2006         CName\n",
       "County                                     \n",
       "Addison County, VT        NaN       Addison\n",
       "Androscoggin County, ME   NaN  Androscoggin\n",
       "Aroostook County, ME      NaN     Aroostook\n",
       "Barnstable County, MA      22    Barnstable\n",
       "Belknap County, NH        NaN       Belknap\n",
       "...                       ...           ...\n",
       "Windham County, CT         10       Windham\n",
       "Windham County, VT        NaN       Windham\n",
       "Windsor County, VT        NaN       Windsor\n",
       "Worcester County, MA       72     Worcester\n",
       "York County, ME            17          York\n",
       "\n",
       "[67 rows x 2 columns]"
      ]
     },
     "execution_count": 35,
     "metadata": {},
     "output_type": "execute_result"
    }
   ],
   "source": [
    "deathspivot[[2006,'CName']]"
   ]
  },
  {
   "cell_type": "code",
   "execution_count": 57,
   "metadata": {},
   "outputs": [
    {
     "name": "stdout",
     "output_type": "stream",
     "text": [
      "Addison County, VT\n",
      "Androscoggin County, ME\n",
      "Aroostook County, ME\n",
      "Barnstable County, MA\n",
      "Belknap County, NH\n",
      "Bennington County, VT\n",
      "Berkshire County, MA\n",
      "Bristol County, MA\n",
      "Bristol County, RI\n",
      "Caledonia County, VT\n",
      "Carroll County, NH\n",
      "Cheshire County, NH\n",
      "Chittenden County, VT\n",
      "Coos County, NH\n",
      "Cumberland County, ME\n",
      "Dukes County, MA\n",
      "Essex County, MA\n",
      "Essex County, VT\n",
      "Fairfield County, CT\n",
      "Franklin County, MA\n",
      "Franklin County, ME\n",
      "Franklin County, VT\n",
      "Grafton County, NH\n",
      "Grand Isle County, VT\n",
      "Hampden County, MA\n",
      "Hampshire County, MA\n",
      "Hancock County, ME\n",
      "Hartford County, CT\n",
      "Hillsborough County, NH\n",
      "Kennebec County, ME\n",
      "Kent County, RI\n",
      "Knox County, ME\n",
      "Lamoille County, VT\n",
      "Lincoln County, ME\n",
      "Litchfield County, CT\n",
      "Merrimack County, NH\n",
      "Middlesex County, CT\n",
      "Middlesex County, MA\n",
      "Nantucket County, MA\n",
      "New Haven County, CT\n",
      "New London County, CT\n",
      "Newport County, RI\n",
      "Norfolk County, MA\n",
      "Orange County, VT\n",
      "Orleans County, VT\n",
      "Oxford County, ME\n",
      "Penobscot County, ME\n",
      "Piscataquis County, ME\n",
      "Plymouth County, MA\n",
      "Providence County, RI\n",
      "Rockingham County, NH\n",
      "Rutland County, VT\n",
      "Sagadahoc County, ME\n",
      "Somerset County, ME\n",
      "Strafford County, NH\n",
      "Suffolk County, MA\n",
      "Sullivan County, NH\n",
      "Tolland County, CT\n",
      "Waldo County, ME\n",
      "Washington County, ME\n",
      "Washington County, RI\n",
      "Washington County, VT\n",
      "Windham County, CT\n",
      "Windham County, VT\n",
      "Windsor County, VT\n",
      "Worcester County, MA\n",
      "York County, ME\n"
     ]
    }
   ],
   "source": [
    "for i in deathspivot.index :\n",
    "    "
   ]
  },
  {
   "cell_type": "code",
   "execution_count": 36,
   "metadata": {},
   "outputs": [],
   "source": [
    "geoDeath=dict()\n",
    "for i in geoOPyear.keys():\n",
    "    temp=deathspivot[[int(i),'CName']]\n",
    "    geoDeath[i]=geoOPyear[i].merge(temp,left_on='NAME',right_on='CName')\n",
    "    geoDeath[i].drop(columns=['ALAND','AWATER'])"
   ]
  },
  {
   "cell_type": "code",
   "execution_count": 44,
   "metadata": {},
   "outputs": [
    {
     "data": {
      "text/plain": [
       "STATEFP        0\n",
       "COUNTYFP       0\n",
       "COUNTYNS       0\n",
       "AFFGEOID       0\n",
       "GEOID          0\n",
       "NAME           0\n",
       "LSAD           0\n",
       "ALAND          0\n",
       "AWATER         0\n",
       "geometry       0\n",
       "2006_x         0\n",
       "inMillions     0\n",
       "2006_y        57\n",
       "CName          0\n",
       "dtype: int64"
      ]
     },
     "execution_count": 44,
     "metadata": {},
     "output_type": "execute_result"
    }
   ],
   "source": [
    "geoDeath['2006'].isna().sum()"
   ]
  },
  {
   "cell_type": "code",
   "execution_count": 45,
   "metadata": {},
   "outputs": [
    {
     "name": "stdout",
     "output_type": "stream",
     "text": [
      "<class 'geopandas.geodataframe.GeoDataFrame'>\n",
      "Int64Index: 84 entries, 0 to 83\n",
      "Data columns (total 14 columns):\n",
      "STATEFP       84 non-null object\n",
      "COUNTYFP      84 non-null object\n",
      "COUNTYNS      84 non-null object\n",
      "AFFGEOID      84 non-null object\n",
      "GEOID         84 non-null object\n",
      "NAME          84 non-null object\n",
      "LSAD          84 non-null object\n",
      "ALAND         84 non-null int64\n",
      "AWATER        84 non-null int64\n",
      "geometry      84 non-null geometry\n",
      "2006_x        84 non-null float32\n",
      "inMillions    84 non-null float64\n",
      "2006_y        27 non-null Int32\n",
      "CName         84 non-null object\n",
      "dtypes: Int32(1), float32(1), float64(1), geometry(1), int64(2), object(8)\n",
      "memory usage: 9.3+ KB\n"
     ]
    }
   ],
   "source": [
    "geoDeath['2006'].info()"
   ]
  },
  {
   "cell_type": "code",
   "execution_count": 47,
   "metadata": {},
   "outputs": [
    {
     "name": "stdout",
     "output_type": "stream",
     "text": [
      "<class 'geopandas.geodataframe.GeoDataFrame'>\n",
      "Int64Index: 67 entries, 0 to 66\n",
      "Data columns (total 12 columns):\n",
      "STATEFP       67 non-null object\n",
      "COUNTYFP      67 non-null object\n",
      "COUNTYNS      67 non-null object\n",
      "AFFGEOID      67 non-null object\n",
      "GEOID         67 non-null object\n",
      "NAME          67 non-null object\n",
      "LSAD          67 non-null object\n",
      "ALAND         67 non-null int64\n",
      "AWATER        67 non-null int64\n",
      "geometry      67 non-null geometry\n",
      "2006          67 non-null float32\n",
      "inMillions    67 non-null float64\n",
      "dtypes: float32(1), float64(1), geometry(1), int64(2), object(7)\n",
      "memory usage: 6.5+ KB\n"
     ]
    }
   ],
   "source": [
    "geoOPyear['2006'].info()"
   ]
  },
  {
   "cell_type": "code",
   "execution_count": 48,
   "metadata": {},
   "outputs": [
    {
     "data": {
      "text/plain": [
       "(67, 8)"
      ]
     },
     "execution_count": 48,
     "metadata": {},
     "output_type": "execute_result"
    }
   ],
   "source": [
    "deathspivot.shape"
   ]
  },
  {
   "cell_type": "code",
   "execution_count": 50,
   "metadata": {
    "collapsed": true,
    "jupyter": {
     "outputs_hidden": true
    }
   },
   "outputs": [
    {
     "data": {
      "text/plain": [
       "['Knox',\n",
       " 'Lincoln',\n",
       " 'Barnstable',\n",
       " 'Hampden',\n",
       " 'Suffolk',\n",
       " 'Dukes',\n",
       " 'Middlesex',\n",
       " 'Middlesex',\n",
       " 'Middlesex',\n",
       " 'Middlesex',\n",
       " 'Sagadahoc',\n",
       " 'York',\n",
       " 'Coos',\n",
       " 'Rockingham',\n",
       " 'Strafford',\n",
       " 'Orange',\n",
       " 'Windsor',\n",
       " 'Franklin',\n",
       " 'Franklin',\n",
       " 'Franklin',\n",
       " 'Franklin',\n",
       " 'Franklin',\n",
       " 'Franklin',\n",
       " 'Franklin',\n",
       " 'Franklin',\n",
       " 'Franklin',\n",
       " 'Fairfield',\n",
       " 'Aroostook',\n",
       " 'Somerset',\n",
       " 'Bristol',\n",
       " 'Bristol',\n",
       " 'Bristol',\n",
       " 'Bristol',\n",
       " 'Washington',\n",
       " 'Washington',\n",
       " 'Washington',\n",
       " 'Washington',\n",
       " 'Washington',\n",
       " 'Washington',\n",
       " 'Washington',\n",
       " 'Washington',\n",
       " 'Washington',\n",
       " 'Providence',\n",
       " 'Waldo',\n",
       " 'Litchfield',\n",
       " 'Tolland',\n",
       " 'Kennebec',\n",
       " 'Essex',\n",
       " 'Essex',\n",
       " 'Essex',\n",
       " 'Essex',\n",
       " 'Berkshire',\n",
       " 'Norfolk',\n",
       " 'Windham',\n",
       " 'Windham',\n",
       " 'Windham',\n",
       " 'Windham',\n",
       " 'Penobscot',\n",
       " 'Orleans',\n",
       " 'Carroll',\n",
       " 'Piscataquis',\n",
       " 'Merrimack',\n",
       " 'Bennington',\n",
       " 'Nantucket',\n",
       " 'Belknap',\n",
       " 'Kent',\n",
       " 'Hartford',\n",
       " 'Chittenden',\n",
       " 'Cheshire',\n",
       " 'Plymouth',\n",
       " 'Hancock',\n",
       " 'Newport',\n",
       " 'Lamoille',\n",
       " 'Cumberland',\n",
       " 'Hillsborough',\n",
       " 'Addison',\n",
       " 'Sullivan',\n",
       " 'Rutland',\n",
       " 'Hampshire',\n",
       " 'Caledonia',\n",
       " 'Androscoggin',\n",
       " 'Grafton',\n",
       " 'Oxford',\n",
       " 'Worcester']"
      ]
     },
     "execution_count": 50,
     "metadata": {},
     "output_type": "execute_result"
    }
   ],
   "source": [
    "list(geoDeath['2006']['NAME'])"
   ]
  },
  {
   "cell_type": "code",
   "execution_count": 53,
   "metadata": {},
   "outputs": [
    {
     "data": {
      "text/plain": [
       "['Addison County, VT',\n",
       " 'Androscoggin County, ME',\n",
       " 'Aroostook County, ME',\n",
       " 'Barnstable County, MA',\n",
       " 'Belknap County, NH',\n",
       " 'Bennington County, VT',\n",
       " 'Berkshire County, MA',\n",
       " 'Bristol County, MA',\n",
       " 'Bristol County, RI',\n",
       " 'Caledonia County, VT',\n",
       " 'Carroll County, NH',\n",
       " 'Cheshire County, NH',\n",
       " 'Chittenden County, VT',\n",
       " 'Coos County, NH',\n",
       " 'Cumberland County, ME',\n",
       " 'Dukes County, MA',\n",
       " 'Essex County, MA',\n",
       " 'Essex County, VT',\n",
       " 'Fairfield County, CT',\n",
       " 'Franklin County, MA',\n",
       " 'Franklin County, ME',\n",
       " 'Franklin County, VT',\n",
       " 'Grafton County, NH',\n",
       " 'Grand Isle County, VT',\n",
       " 'Hampden County, MA',\n",
       " 'Hampshire County, MA',\n",
       " 'Hancock County, ME',\n",
       " 'Hartford County, CT',\n",
       " 'Hillsborough County, NH',\n",
       " 'Kennebec County, ME',\n",
       " 'Kent County, RI',\n",
       " 'Knox County, ME',\n",
       " 'Lamoille County, VT',\n",
       " 'Lincoln County, ME',\n",
       " 'Litchfield County, CT',\n",
       " 'Merrimack County, NH',\n",
       " 'Middlesex County, CT',\n",
       " 'Middlesex County, MA',\n",
       " 'Nantucket County, MA',\n",
       " 'New Haven County, CT',\n",
       " 'New London County, CT',\n",
       " 'Newport County, RI',\n",
       " 'Norfolk County, MA',\n",
       " 'Orange County, VT',\n",
       " 'Orleans County, VT',\n",
       " 'Oxford County, ME',\n",
       " 'Penobscot County, ME',\n",
       " 'Piscataquis County, ME',\n",
       " 'Plymouth County, MA',\n",
       " 'Providence County, RI',\n",
       " 'Rockingham County, NH',\n",
       " 'Rutland County, VT',\n",
       " 'Sagadahoc County, ME',\n",
       " 'Somerset County, ME',\n",
       " 'Strafford County, NH',\n",
       " 'Suffolk County, MA',\n",
       " 'Sullivan County, NH',\n",
       " 'Tolland County, CT',\n",
       " 'Waldo County, ME',\n",
       " 'Washington County, ME',\n",
       " 'Washington County, RI',\n",
       " 'Washington County, VT',\n",
       " 'Windham County, CT',\n",
       " 'Windham County, VT',\n",
       " 'Windsor County, VT',\n",
       " 'Worcester County, MA',\n",
       " 'York County, ME']"
      ]
     },
     "execution_count": 53,
     "metadata": {},
     "output_type": "execute_result"
    }
   ],
   "source": [
    "list(deathspivot.index)"
   ]
  },
  {
   "cell_type": "code",
   "execution_count": 54,
   "metadata": {},
   "outputs": [
    {
     "data": {
      "text/plain": [
       "(469, 6)"
      ]
     },
     "execution_count": 54,
     "metadata": {},
     "output_type": "execute_result"
    }
   ],
   "source": [
    "deaths.shape"
   ]
  },
  {
   "cell_type": "code",
   "execution_count": 55,
   "metadata": {},
   "outputs": [
    {
     "data": {
      "text/plain": [
       "(67, 8)"
      ]
     },
     "execution_count": 55,
     "metadata": {},
     "output_type": "execute_result"
    }
   ],
   "source": [
    "deathspivot.shape"
   ]
  },
  {
   "cell_type": "code",
   "execution_count": 56,
   "metadata": {},
   "outputs": [
    {
     "data": {
      "text/html": [
       "<div>\n",
       "<style scoped>\n",
       "    .dataframe tbody tr th:only-of-type {\n",
       "        vertical-align: middle;\n",
       "    }\n",
       "\n",
       "    .dataframe tbody tr th {\n",
       "        vertical-align: top;\n",
       "    }\n",
       "\n",
       "    .dataframe thead th {\n",
       "        text-align: right;\n",
       "    }\n",
       "</style>\n",
       "<table border=\"1\" class=\"dataframe\">\n",
       "  <thead>\n",
       "    <tr style=\"text-align: right;\">\n",
       "      <th>Year</th>\n",
       "      <th>2006</th>\n",
       "      <th>2007</th>\n",
       "      <th>2008</th>\n",
       "      <th>2009</th>\n",
       "      <th>2010</th>\n",
       "      <th>2011</th>\n",
       "      <th>2012</th>\n",
       "      <th>CName</th>\n",
       "    </tr>\n",
       "    <tr>\n",
       "      <th>County</th>\n",
       "      <th></th>\n",
       "      <th></th>\n",
       "      <th></th>\n",
       "      <th></th>\n",
       "      <th></th>\n",
       "      <th></th>\n",
       "      <th></th>\n",
       "      <th></th>\n",
       "    </tr>\n",
       "  </thead>\n",
       "  <tbody>\n",
       "    <tr>\n",
       "      <td>Addison County, VT</td>\n",
       "      <td>NaN</td>\n",
       "      <td>NaN</td>\n",
       "      <td>NaN</td>\n",
       "      <td>NaN</td>\n",
       "      <td>NaN</td>\n",
       "      <td>NaN</td>\n",
       "      <td>NaN</td>\n",
       "      <td>Addison</td>\n",
       "    </tr>\n",
       "    <tr>\n",
       "      <td>Androscoggin County, ME</td>\n",
       "      <td>NaN</td>\n",
       "      <td>NaN</td>\n",
       "      <td>NaN</td>\n",
       "      <td>10</td>\n",
       "      <td>11</td>\n",
       "      <td>NaN</td>\n",
       "      <td>NaN</td>\n",
       "      <td>Androscoggin</td>\n",
       "    </tr>\n",
       "    <tr>\n",
       "      <td>Aroostook County, ME</td>\n",
       "      <td>NaN</td>\n",
       "      <td>NaN</td>\n",
       "      <td>NaN</td>\n",
       "      <td>NaN</td>\n",
       "      <td>NaN</td>\n",
       "      <td>NaN</td>\n",
       "      <td>NaN</td>\n",
       "      <td>Aroostook</td>\n",
       "    </tr>\n",
       "    <tr>\n",
       "      <td>Barnstable County, MA</td>\n",
       "      <td>22</td>\n",
       "      <td>29</td>\n",
       "      <td>22</td>\n",
       "      <td>20</td>\n",
       "      <td>20</td>\n",
       "      <td>16</td>\n",
       "      <td>19</td>\n",
       "      <td>Barnstable</td>\n",
       "    </tr>\n",
       "    <tr>\n",
       "      <td>Belknap County, NH</td>\n",
       "      <td>NaN</td>\n",
       "      <td>12</td>\n",
       "      <td>10</td>\n",
       "      <td>NaN</td>\n",
       "      <td>NaN</td>\n",
       "      <td>NaN</td>\n",
       "      <td>NaN</td>\n",
       "      <td>Belknap</td>\n",
       "    </tr>\n",
       "  </tbody>\n",
       "</table>\n",
       "</div>"
      ],
      "text/plain": [
       "Year                     2006  2007  2008  2009  2010  2011  2012  \\\n",
       "County                                                              \n",
       "Addison County, VT        NaN   NaN   NaN   NaN   NaN   NaN   NaN   \n",
       "Androscoggin County, ME   NaN   NaN   NaN    10    11   NaN   NaN   \n",
       "Aroostook County, ME      NaN   NaN   NaN   NaN   NaN   NaN   NaN   \n",
       "Barnstable County, MA      22    29    22    20    20    16    19   \n",
       "Belknap County, NH        NaN    12    10   NaN   NaN   NaN   NaN   \n",
       "\n",
       "Year                            CName  \n",
       "County                                 \n",
       "Addison County, VT            Addison  \n",
       "Androscoggin County, ME  Androscoggin  \n",
       "Aroostook County, ME        Aroostook  \n",
       "Barnstable County, MA      Barnstable  \n",
       "Belknap County, NH            Belknap  "
      ]
     },
     "execution_count": 56,
     "metadata": {},
     "output_type": "execute_result"
    }
   ],
   "source": [
    "deathspivot.head()"
   ]
  },
  {
   "cell_type": "code",
   "execution_count": null,
   "metadata": {},
   "outputs": [],
   "source": []
  }
 ],
 "metadata": {
  "kernelspec": {
   "display_name": "Python 3",
   "language": "python",
   "name": "python3"
  },
  "language_info": {
   "codemirror_mode": {
    "name": "ipython",
    "version": 3
   },
   "file_extension": ".py",
   "mimetype": "text/x-python",
   "name": "python",
   "nbconvert_exporter": "python",
   "pygments_lexer": "ipython3",
   "version": "3.6.7"
  }
 },
 "nbformat": 4,
 "nbformat_minor": 4
}
