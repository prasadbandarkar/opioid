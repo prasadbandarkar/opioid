{
 "cells": [
  {
   "cell_type": "code",
   "execution_count": 1,
   "metadata": {},
   "outputs": [],
   "source": [
    "import pandas as pd\n",
    "import numpy as np\n",
    "import matplotlib.pyplot as plt\n",
    "import seaborn as sns"
   ]
  },
  {
   "cell_type": "code",
   "execution_count": 2,
   "metadata": {},
   "outputs": [
    {
     "name": "stderr",
     "output_type": "stream",
     "text": [
      "/home/prasadb/miniconda3/lib/python3.7/site-packages/IPython/core/interactiveshell.py:3058: DtypeWarning: Columns (22) have mixed types. Specify dtype option on import or set low_memory=False.\n",
      "  interactivity=interactivity, compiler=compiler, result=result)\n"
     ]
    }
   ],
   "source": [
    "rawdf=pd.read_csv('arcos-ma-suffolk-25025-itemized.tsv',sep='\\t')"
   ]
  },
  {
   "cell_type": "code",
   "execution_count": 4,
   "metadata": {},
   "outputs": [],
   "source": [
    "rawdf.TRANSACTION_DATE=pd.to_datetime(rawdf.TRANSACTION_DATE,format=\"%m%d%Y\")"
   ]
  },
  {
   "cell_type": "code",
   "execution_count": 5,
   "metadata": {},
   "outputs": [
    {
     "name": "stdout",
     "output_type": "stream",
     "text": [
      "<class 'pandas.core.frame.DataFrame'>\n",
      "RangeIndex: 189341 entries, 0 to 189340\n",
      "Data columns (total 42 columns):\n",
      "REPORTER_DEA_NO          189341 non-null object\n",
      "REPORTER_BUS_ACT         189341 non-null object\n",
      "REPORTER_NAME            189341 non-null object\n",
      "REPORTER_ADDL_CO_INFO    12684 non-null object\n",
      "REPORTER_ADDRESS1        189341 non-null object\n",
      "REPORTER_ADDRESS2        57183 non-null object\n",
      "REPORTER_CITY            189341 non-null object\n",
      "REPORTER_STATE           189341 non-null object\n",
      "REPORTER_ZIP             189341 non-null int64\n",
      "REPORTER_COUNTY          189341 non-null object\n",
      "BUYER_DEA_NO             189341 non-null object\n",
      "BUYER_BUS_ACT            189341 non-null object\n",
      "BUYER_NAME               189341 non-null object\n",
      "BUYER_ADDL_CO_INFO       130530 non-null object\n",
      "BUYER_ADDRESS1           189341 non-null object\n",
      "BUYER_ADDRESS2           25011 non-null object\n",
      "BUYER_CITY               189341 non-null object\n",
      "BUYER_STATE              189341 non-null object\n",
      "BUYER_ZIP                189341 non-null int64\n",
      "BUYER_COUNTY             189341 non-null object\n",
      "TRANSACTION_CODE         189341 non-null object\n",
      "DRUG_CODE                189341 non-null int64\n",
      "NDC_NO                   189341 non-null object\n",
      "DRUG_NAME                189341 non-null object\n",
      "QUANTITY                 189341 non-null float64\n",
      "UNIT                     0 non-null float64\n",
      "ACTION_INDICATOR         145 non-null object\n",
      "ORDER_FORM_NO            125681 non-null object\n",
      "CORRECTION_NO            33 non-null float64\n",
      "STRENGTH                 79949 non-null float64\n",
      "TRANSACTION_DATE         189341 non-null datetime64[ns]\n",
      "CALC_BASE_WT_IN_GM       189341 non-null float64\n",
      "DOSAGE_UNIT              189340 non-null float64\n",
      "TRANSACTION_ID           189341 non-null int64\n",
      "Product_Name             189341 non-null object\n",
      "Ingredient_Name          189341 non-null object\n",
      "Measure                  189341 non-null object\n",
      "MME_Conversion_Factor    189341 non-null float64\n",
      "Combined_Labeler_Name    189341 non-null object\n",
      "Revised_Company_Name     189341 non-null object\n",
      "Reporter_family          189341 non-null object\n",
      "dos_str                  189043 non-null float64\n",
      "dtypes: datetime64[ns](1), float64(8), int64(4), object(29)\n",
      "memory usage: 60.7+ MB\n"
     ]
    }
   ],
   "source": [
    "rawdf.info()"
   ]
  },
  {
   "cell_type": "code",
   "execution_count": 8,
   "metadata": {},
   "outputs": [
    {
     "data": {
      "text/plain": [
       "OXYCODONE HYDROCHLORIDE                    125668\n",
       "HYDROCODONE BITARTRATE HEMIPENTAHYDRATE     63673\n",
       "Name: Ingredient_Name, dtype: int64"
      ]
     },
     "execution_count": 8,
     "metadata": {},
     "output_type": "execute_result"
    }
   ],
   "source": [
    "rawdf.Ingredient_Name.value_counts()"
   ]
  },
  {
   "cell_type": "code",
   "execution_count": 10,
   "metadata": {},
   "outputs": [
    {
     "data": {
      "text/plain": [
       "TAB    189341\n",
       "Name: Measure, dtype: int64"
      ]
     },
     "execution_count": 10,
     "metadata": {},
     "output_type": "execute_result"
    }
   ],
   "source": [
    "rawdf.Measure.value_counts()"
   ]
  },
  {
   "cell_type": "code",
   "execution_count": 15,
   "metadata": {},
   "outputs": [
    {
     "name": "stdout",
     "output_type": "stream",
     "text": [
      "62    REPORTER_DEA_NO\n",
      "3    REPORTER_BUS_ACT\n",
      "55    REPORTER_NAME\n",
      "12    REPORTER_ADDL_CO_INFO\n",
      "61    REPORTER_ADDRESS1\n",
      "11    REPORTER_ADDRESS2\n",
      "54    REPORTER_CITY\n",
      "25    REPORTER_STATE\n",
      "56    REPORTER_ZIP\n",
      "46    REPORTER_COUNTY\n",
      "190    BUYER_DEA_NO\n",
      "3    BUYER_BUS_ACT\n",
      "108    BUYER_NAME\n",
      "93    BUYER_ADDL_CO_INFO\n",
      "170    BUYER_ADDRESS1\n",
      "41    BUYER_ADDRESS2\n",
      "17    BUYER_CITY\n",
      "1    BUYER_STATE\n",
      "29    BUYER_ZIP\n",
      "1    BUYER_COUNTY\n",
      "1    TRANSACTION_CODE\n",
      "2    DRUG_CODE\n",
      "587    NDC_NO\n",
      "2    DRUG_NAME\n",
      "69    QUANTITY\n",
      "0    UNIT\n",
      "2    ACTION_INDICATOR\n",
      "49990    ORDER_FORM_NO\n",
      "33    CORRECTION_NO\n",
      "2    STRENGTH\n",
      "2179    TRANSACTION_DATE\n",
      "249    CALC_BASE_WT_IN_GM\n",
      "89    DOSAGE_UNIT\n",
      "152136    TRANSACTION_ID\n",
      "226    Product_Name\n",
      "2    Ingredient_Name\n",
      "1    Measure\n",
      "2    MME_Conversion_Factor\n",
      "41    Combined_Labeler_Name\n",
      "37    Revised_Company_Name\n",
      "40    Reporter_family\n",
      "12    dos_str\n"
     ]
    }
   ],
   "source": [
    "for i in rawdf.columns :\n",
    "    print(rawdf[i].nunique(), str(\"  \"), str(i) )"
   ]
  },
  {
   "cell_type": "code",
   "execution_count": 21,
   "metadata": {},
   "outputs": [
    {
     "data": {
      "text/plain": [
       "431      2012-08-03\n",
       "22979    2011-08-05\n",
       "141003   2011-11-01\n",
       "Name: TRANSACTION_DATE, dtype: datetime64[ns]"
      ]
     },
     "execution_count": 21,
     "metadata": {},
     "output_type": "execute_result"
    }
   ],
   "source": [
    "rawdf.loc[rawdf.Combined_Labeler_Name=='Brighton Pharmaceuticals, Inc.'].TRANSACTION_DATE"
   ]
  },
  {
   "cell_type": "code",
   "execution_count": 23,
   "metadata": {},
   "outputs": [
    {
     "data": {
      "text/plain": [
       "CVS PHARMACY, INC.            65927\n",
       "WALGREEN EASTERN CO., INC.    36835\n",
       "MAXI DRUG, INC.               14679\n",
       "BROWN'S REXALL DRUG            3644\n",
       "SULLIVAN'S PHARMACY INC        2888\n",
       "                              ...  \n",
       "WOSKO, TIMOTHY DVM                1\n",
       "LOWNEY, CHARLES W DO              1\n",
       "FANG, LESLIE MD                   1\n",
       "ASNIS, PETER D (MD)               1\n",
       "ISSA, NICOLAS C MD                1\n",
       "Name: BUYER_NAME, Length: 108, dtype: int64"
      ]
     },
     "execution_count": 23,
     "metadata": {},
     "output_type": "execute_result"
    }
   ],
   "source": [
    "rawdf.BUYER_NAME.value_counts()"
   ]
  },
  {
   "cell_type": "code",
   "execution_count": 24,
   "metadata": {},
   "outputs": [],
   "source": [
    "cvs=rawdf.loc[rawdf.BUYER_NAME==\"CVS PHARMACY, INC.\"]"
   ]
  },
  {
   "cell_type": "code",
   "execution_count": 25,
   "metadata": {},
   "outputs": [
    {
     "data": {
      "text/html": [
       "<div>\n",
       "<style scoped>\n",
       "    .dataframe tbody tr th:only-of-type {\n",
       "        vertical-align: middle;\n",
       "    }\n",
       "\n",
       "    .dataframe tbody tr th {\n",
       "        vertical-align: top;\n",
       "    }\n",
       "\n",
       "    .dataframe thead th {\n",
       "        text-align: right;\n",
       "    }\n",
       "</style>\n",
       "<table border=\"1\" class=\"dataframe\">\n",
       "  <thead>\n",
       "    <tr style=\"text-align: right;\">\n",
       "      <th></th>\n",
       "      <th>REPORTER_DEA_NO</th>\n",
       "      <th>REPORTER_BUS_ACT</th>\n",
       "      <th>REPORTER_NAME</th>\n",
       "      <th>REPORTER_ADDL_CO_INFO</th>\n",
       "      <th>REPORTER_ADDRESS1</th>\n",
       "      <th>REPORTER_ADDRESS2</th>\n",
       "      <th>REPORTER_CITY</th>\n",
       "      <th>REPORTER_STATE</th>\n",
       "      <th>REPORTER_ZIP</th>\n",
       "      <th>REPORTER_COUNTY</th>\n",
       "      <th>...</th>\n",
       "      <th>DOSAGE_UNIT</th>\n",
       "      <th>TRANSACTION_ID</th>\n",
       "      <th>Product_Name</th>\n",
       "      <th>Ingredient_Name</th>\n",
       "      <th>Measure</th>\n",
       "      <th>MME_Conversion_Factor</th>\n",
       "      <th>Combined_Labeler_Name</th>\n",
       "      <th>Revised_Company_Name</th>\n",
       "      <th>Reporter_family</th>\n",
       "      <th>dos_str</th>\n",
       "    </tr>\n",
       "  </thead>\n",
       "  <tbody>\n",
       "    <tr>\n",
       "      <td>835</td>\n",
       "      <td>RD0108200</td>\n",
       "      <td>DISTRIBUTOR</td>\n",
       "      <td>CARDINAL HEALTH</td>\n",
       "      <td>NaN</td>\n",
       "      <td>11 CENTENNIAL DRIVE</td>\n",
       "      <td>NaN</td>\n",
       "      <td>PEABODY</td>\n",
       "      <td>MA</td>\n",
       "      <td>1960</td>\n",
       "      <td>ESSEX</td>\n",
       "      <td>...</td>\n",
       "      <td>200.0</td>\n",
       "      <td>602026122</td>\n",
       "      <td>OXYCODONE HYDROCHLORIDE EXTENDED-REL</td>\n",
       "      <td>OXYCODONE HYDROCHLORIDE</td>\n",
       "      <td>TAB</td>\n",
       "      <td>1.5</td>\n",
       "      <td>Teva Pharmaceuticals USA, Inc.</td>\n",
       "      <td>Teva</td>\n",
       "      <td>Cardinal Health</td>\n",
       "      <td>20.0</td>\n",
       "    </tr>\n",
       "    <tr>\n",
       "      <td>836</td>\n",
       "      <td>RD0108200</td>\n",
       "      <td>DISTRIBUTOR</td>\n",
       "      <td>CARDINAL HEALTH</td>\n",
       "      <td>NaN</td>\n",
       "      <td>11 CENTENNIAL DRIVE</td>\n",
       "      <td>NaN</td>\n",
       "      <td>PEABODY</td>\n",
       "      <td>MA</td>\n",
       "      <td>1960</td>\n",
       "      <td>ESSEX</td>\n",
       "      <td>...</td>\n",
       "      <td>500.0</td>\n",
       "      <td>603053247</td>\n",
       "      <td>PERCOCET TABLETS 10MG OXYCODONE HCL/</td>\n",
       "      <td>OXYCODONE HYDROCHLORIDE</td>\n",
       "      <td>TAB</td>\n",
       "      <td>1.5</td>\n",
       "      <td>Endo Pharmaceuticals, Inc.</td>\n",
       "      <td>Endo Pharmaceuticals, Inc.</td>\n",
       "      <td>Cardinal Health</td>\n",
       "      <td>10.0</td>\n",
       "    </tr>\n",
       "    <tr>\n",
       "      <td>837</td>\n",
       "      <td>RD0108200</td>\n",
       "      <td>DISTRIBUTOR</td>\n",
       "      <td>CARDINAL HEALTH</td>\n",
       "      <td>NaN</td>\n",
       "      <td>11 CENTENNIAL DRIVE</td>\n",
       "      <td>NaN</td>\n",
       "      <td>PEABODY</td>\n",
       "      <td>MA</td>\n",
       "      <td>1960</td>\n",
       "      <td>ESSEX</td>\n",
       "      <td>...</td>\n",
       "      <td>100.0</td>\n",
       "      <td>604022547</td>\n",
       "      <td>ENDOCET TABS - 10MG OXYCODONE.HCL &amp;</td>\n",
       "      <td>OXYCODONE HYDROCHLORIDE</td>\n",
       "      <td>TAB</td>\n",
       "      <td>1.5</td>\n",
       "      <td>Par Pharmaceutical</td>\n",
       "      <td>Endo Pharmaceuticals, Inc.</td>\n",
       "      <td>Cardinal Health</td>\n",
       "      <td>10.0</td>\n",
       "    </tr>\n",
       "    <tr>\n",
       "      <td>838</td>\n",
       "      <td>RD0108200</td>\n",
       "      <td>DISTRIBUTOR</td>\n",
       "      <td>CARDINAL HEALTH</td>\n",
       "      <td>NaN</td>\n",
       "      <td>11 CENTENNIAL DRIVE</td>\n",
       "      <td>NaN</td>\n",
       "      <td>PEABODY</td>\n",
       "      <td>MA</td>\n",
       "      <td>1960</td>\n",
       "      <td>ESSEX</td>\n",
       "      <td>...</td>\n",
       "      <td>1200.0</td>\n",
       "      <td>607049559</td>\n",
       "      <td>OXYCODONE HCL/ACETAMINOPHEN 5MG/325M</td>\n",
       "      <td>OXYCODONE HYDROCHLORIDE</td>\n",
       "      <td>TAB</td>\n",
       "      <td>1.5</td>\n",
       "      <td>SpecGx LLC</td>\n",
       "      <td>Mallinckrodt</td>\n",
       "      <td>Cardinal Health</td>\n",
       "      <td>5.0</td>\n",
       "    </tr>\n",
       "    <tr>\n",
       "      <td>839</td>\n",
       "      <td>RD0108200</td>\n",
       "      <td>DISTRIBUTOR</td>\n",
       "      <td>CARDINAL HEALTH</td>\n",
       "      <td>NaN</td>\n",
       "      <td>11 CENTENNIAL DRIVE</td>\n",
       "      <td>NaN</td>\n",
       "      <td>PEABODY</td>\n",
       "      <td>MA</td>\n",
       "      <td>1960</td>\n",
       "      <td>ESSEX</td>\n",
       "      <td>...</td>\n",
       "      <td>200.0</td>\n",
       "      <td>607056158</td>\n",
       "      <td>OXYCODONE.HCL 10MG / APAP 650MG TABL</td>\n",
       "      <td>OXYCODONE HYDROCHLORIDE</td>\n",
       "      <td>TAB</td>\n",
       "      <td>1.5</td>\n",
       "      <td>Actavis Pharma, Inc.</td>\n",
       "      <td>Allergan, Inc.</td>\n",
       "      <td>Cardinal Health</td>\n",
       "      <td>10.0</td>\n",
       "    </tr>\n",
       "  </tbody>\n",
       "</table>\n",
       "<p>5 rows × 42 columns</p>\n",
       "</div>"
      ],
      "text/plain": [
       "    REPORTER_DEA_NO REPORTER_BUS_ACT    REPORTER_NAME REPORTER_ADDL_CO_INFO  \\\n",
       "835       RD0108200      DISTRIBUTOR  CARDINAL HEALTH                   NaN   \n",
       "836       RD0108200      DISTRIBUTOR  CARDINAL HEALTH                   NaN   \n",
       "837       RD0108200      DISTRIBUTOR  CARDINAL HEALTH                   NaN   \n",
       "838       RD0108200      DISTRIBUTOR  CARDINAL HEALTH                   NaN   \n",
       "839       RD0108200      DISTRIBUTOR  CARDINAL HEALTH                   NaN   \n",
       "\n",
       "       REPORTER_ADDRESS1 REPORTER_ADDRESS2 REPORTER_CITY REPORTER_STATE  \\\n",
       "835  11 CENTENNIAL DRIVE               NaN       PEABODY             MA   \n",
       "836  11 CENTENNIAL DRIVE               NaN       PEABODY             MA   \n",
       "837  11 CENTENNIAL DRIVE               NaN       PEABODY             MA   \n",
       "838  11 CENTENNIAL DRIVE               NaN       PEABODY             MA   \n",
       "839  11 CENTENNIAL DRIVE               NaN       PEABODY             MA   \n",
       "\n",
       "     REPORTER_ZIP REPORTER_COUNTY  ... DOSAGE_UNIT TRANSACTION_ID  \\\n",
       "835          1960           ESSEX  ...       200.0      602026122   \n",
       "836          1960           ESSEX  ...       500.0      603053247   \n",
       "837          1960           ESSEX  ...       100.0      604022547   \n",
       "838          1960           ESSEX  ...      1200.0      607049559   \n",
       "839          1960           ESSEX  ...       200.0      607056158   \n",
       "\n",
       "                             Product_Name          Ingredient_Name Measure  \\\n",
       "835  OXYCODONE HYDROCHLORIDE EXTENDED-REL  OXYCODONE HYDROCHLORIDE     TAB   \n",
       "836  PERCOCET TABLETS 10MG OXYCODONE HCL/  OXYCODONE HYDROCHLORIDE     TAB   \n",
       "837   ENDOCET TABS - 10MG OXYCODONE.HCL &  OXYCODONE HYDROCHLORIDE     TAB   \n",
       "838  OXYCODONE HCL/ACETAMINOPHEN 5MG/325M  OXYCODONE HYDROCHLORIDE     TAB   \n",
       "839  OXYCODONE.HCL 10MG / APAP 650MG TABL  OXYCODONE HYDROCHLORIDE     TAB   \n",
       "\n",
       "    MME_Conversion_Factor           Combined_Labeler_Name  \\\n",
       "835                   1.5  Teva Pharmaceuticals USA, Inc.   \n",
       "836                   1.5      Endo Pharmaceuticals, Inc.   \n",
       "837                   1.5              Par Pharmaceutical   \n",
       "838                   1.5                      SpecGx LLC   \n",
       "839                   1.5            Actavis Pharma, Inc.   \n",
       "\n",
       "           Revised_Company_Name  Reporter_family dos_str  \n",
       "835                        Teva  Cardinal Health    20.0  \n",
       "836  Endo Pharmaceuticals, Inc.  Cardinal Health    10.0  \n",
       "837  Endo Pharmaceuticals, Inc.  Cardinal Health    10.0  \n",
       "838                Mallinckrodt  Cardinal Health     5.0  \n",
       "839              Allergan, Inc.  Cardinal Health    10.0  \n",
       "\n",
       "[5 rows x 42 columns]"
      ]
     },
     "execution_count": 25,
     "metadata": {},
     "output_type": "execute_result"
    }
   ],
   "source": [
    "cvs.head()"
   ]
  },
  {
   "cell_type": "code",
   "execution_count": 27,
   "metadata": {},
   "outputs": [
    {
     "data": {
      "text/plain": [
       "<matplotlib.axes._subplots.AxesSubplot at 0x7fcf7959c4d0>"
      ]
     },
     "execution_count": 27,
     "metadata": {},
     "output_type": "execute_result"
    },
    {
     "data": {
      "image/png": "[encoded data removed]",
      "text/plain": [
       "<Figure size 432x288 with 1 Axes>"
      ]
     },
     "metadata": {
      "needs_background": "light"
     },
     "output_type": "display_data"
    }
   ],
   "source": [
    "sns.lineplot(data=cvs,x='TRANSACTION_DATE',y='DOSAGE_UNIT')"
   ]
  },
  {
   "cell_type": "code",
   "execution_count": 30,
   "metadata": {
    "collapsed": true,
    "jupyter": {
     "outputs_hidden": true
    }
   },
   "outputs": [
    {
     "data": {
      "text/plain": [
       "SpecGx LLC                             71217\n",
       "Actavis Pharma, Inc.                   51974\n",
       "Par Pharmaceutical                     19409\n",
       "Purdue Pharma LP                       16301\n",
       "West-Ward Pharmaceuticals Corp.         5065\n",
       "Teva Pharmaceuticals USA, Inc.          5003\n",
       "Endo Pharmaceuticals, Inc.              4982\n",
       "Amneal Pharmaceuticals LLC              4373\n",
       "KVK-Tech, Inc.                          4220\n",
       "Ethex Corporation                       2447\n",
       "AbbVie Inc.                             1690\n",
       "Mylan Pharmaceuticals, Inc.              892\n",
       "Sun Pharmaceutical Industries, Inc.      657\n",
       "CorePharma, LLC                          182\n",
       "Dispensing Solutions Inc.                172\n",
       "Pfizer Laboratories Div Pfizer Inc       149\n",
       "Xanodyne Pharmaceuticals, Inc.           114\n",
       "UCB, Inc.                                100\n",
       "Lupin Pharmaceuticals,Inc.                89\n",
       "Victory Pharma, Inc.                      76\n",
       "AAI Pharma                                49\n",
       "Teamm Pharmaceuticals, Inc.               42\n",
       "Allergan, Inc.                            40\n",
       "Forest Laboratories, Inc.                 15\n",
       "American Health Packaging                 15\n",
       "Major Pharmaceuticals                     12\n",
       "Breckenridge Pharmaceutical, Inc.          8\n",
       "Apotex Corp.                               8\n",
       "Centrix Pharmaceutical, Inc.               7\n",
       "Impax Generics                             7\n",
       "Alvogen, Inc.                              6\n",
       "McKesson Corporation                       4\n",
       "Dartmouth Pharmaceuticals, Inc.            3\n",
       "Brighton Pharmaceuticals, Inc.             3\n",
       "A-S Medication Solutions                   2\n",
       "Poly Pharmaceuticals, Inc.                 2\n",
       "Aurolife Pharma LLC                        2\n",
       "Hawthorn Pharmaceuticals, Inc.             1\n",
       "Altura Pharmaceuticals, Inc.               1\n",
       "Auriga Pharmaceuticals, LLC                1\n",
       "Mylan Institutional Inc.                   1\n",
       "Name: Combined_Labeler_Name, dtype: int64"
      ]
     },
     "execution_count": 30,
     "metadata": {},
     "output_type": "execute_result"
    }
   ],
   "source": [
    "rawdf.Combined_Labeler_Name.value_counts()"
   ]
  },
  {
   "cell_type": "code",
   "execution_count": 31,
   "metadata": {
    "collapsed": true,
    "jupyter": {
     "outputs_hidden": true
    }
   },
   "outputs": [
    {
     "data": {
      "text/plain": [
       "CARDINAL HEALTH                          62515\n",
       "MCKESSON CORPORATION                     31934\n",
       "WALGREEN CO                              22265\n",
       "CVS PHARMACY INC                         21411\n",
       "AMERISOURCEBERGEN DRUG CORP               7411\n",
       "WALGREEN EASTERN CO., INC.                6809\n",
       "WALGREEN EASTERN CO INC                   6091\n",
       "KINRAY INC                                5327\n",
       "P J C DISTRIBUTOR CO INC                  5128\n",
       "ECKERD CORPORATION                        2779\n",
       "ADVANTAGE LOGISTICS                       2633\n",
       "RITE AID DAYVILLE DISTRIBUTION CENTER     2526\n",
       "H. D. SMITH                               2408\n",
       "ANDA PHARMACEUTICALS INC                  2299\n",
       "CARDINAL HEALTH 110, LLC                  1669\n",
       "AMERICAN SALES COMPANY                    1653\n",
       "CVS INDIANA                               1635\n",
       "BURLINGTON DRUG COMPANY                    914\n",
       "ANDA, INC                                  609\n",
       "ASSOCIATED PHARMACIES INC                  268\n",
       "QUEST PHARMACEUTICALS INC                  217\n",
       "THE HARVARD DRUG GROUP-MI                  199\n",
       "DISPENSING SOLUTIONS                       166\n",
       "GENETCO  INC                                83\n",
       "SMITH DRUG COMPANY                          55\n",
       "HENRY SCHEIN, INC                           51\n",
       "THE HARVARD DRUG GROUP                      41\n",
       "MOORE MEDICAL LLC                           39\n",
       "ASSOCIATED PHARMACIES, INC.                 28\n",
       "MASTERS PHARMACEUTICAL, INC                 27\n",
       "FISHER CLINICAL SERVICES                    18\n",
       "MWI VETERINARY SUPPLY CO                    17\n",
       "CVS TN DISTRIBUTION, LLC                    16\n",
       "TOP RX, INC.                                16\n",
       "AMERISOURCEBERGEN DRUG CORP.                13\n",
       "HENRY SCHEIN INC                            12\n",
       "HENRY SCHEIN ANIMAL HEALTH                  11\n",
       "QUALITEST PHARMACEUTICALS                    6\n",
       "HALS MED DENT SUPPLY CO., INC.               6\n",
       "DRX PHARMACEUTICAL CONSULTANTS, INC.         6\n",
       "PATTERSON LOGISTICS SERVICES                 5\n",
       "PSS WORLD MEDICAL INC                        4\n",
       "PATTERSON VETERINARY SUPPLY, INC.            3\n",
       "BUTLER ANIMAL HEALTH SUPPLY                  3\n",
       "DARBY DENTAL SUPPLY, LLC                     2\n",
       "ALMAC CLINICAL SERVICES, INC.                2\n",
       "H D SMITH WHOLESALE DRUG CO                  2\n",
       "CAPITAL RETURNS, INC.                        2\n",
       "BELLCO DRUG CORP                             1\n",
       "HAWTHORN PHARMACEUTICALS INC                 1\n",
       "MCKESSON MEDICAL SURGICAL INC                1\n",
       "ALTURA PHARMACEUTICALS, INC                  1\n",
       "CVS PHARMACY, INC.                           1\n",
       "PATTERSON LOGISTICS SERVICES INC             1\n",
       "MIDWEST VETERINARY SUPPLY INC                1\n",
       "Name: REPORTER_NAME, dtype: int64"
      ]
     },
     "execution_count": 31,
     "metadata": {},
     "output_type": "execute_result"
    }
   ],
   "source": [
    "rawdf.REPORTER_NAME.value_counts()"
   ]
  },
  {
   "cell_type": "code",
   "execution_count": 39,
   "metadata": {},
   "outputs": [],
   "source": [
    "dosagePerOrder=rawdf['DOSAGE_UNIT'].groupby(by=rawdf.BUYER_DEA_NO  ).mean()"
   ]
  },
  {
   "cell_type": "code",
   "execution_count": 40,
   "metadata": {},
   "outputs": [],
   "source": [
    "buyerNAME=rawdf['BUYER_NAME'].groupby(by=rawdf.BUYER_DEA_NO ).max()"
   ]
  },
  {
   "cell_type": "code",
   "execution_count": 44,
   "metadata": {},
   "outputs": [],
   "source": [
    "dpodf=pd.DataFrame({'buyer_name':buyerNAME,'dosage_per_order':dosagePerOrder})"
   ]
  },
  {
   "cell_type": "code",
   "execution_count": 45,
   "metadata": {},
   "outputs": [
    {
     "data": {
      "text/html": [
       "<div>\n",
       "<style scoped>\n",
       "    .dataframe tbody tr th:only-of-type {\n",
       "        vertical-align: middle;\n",
       "    }\n",
       "\n",
       "    .dataframe tbody tr th {\n",
       "        vertical-align: top;\n",
       "    }\n",
       "\n",
       "    .dataframe thead th {\n",
       "        text-align: right;\n",
       "    }\n",
       "</style>\n",
       "<table border=\"1\" class=\"dataframe\">\n",
       "  <thead>\n",
       "    <tr style=\"text-align: right;\">\n",
       "      <th></th>\n",
       "      <th>buyer_name</th>\n",
       "      <th>dosage_per_order</th>\n",
       "    </tr>\n",
       "    <tr>\n",
       "      <th>BUYER_DEA_NO</th>\n",
       "      <th></th>\n",
       "      <th></th>\n",
       "    </tr>\n",
       "  </thead>\n",
       "  <tbody>\n",
       "    <tr>\n",
       "      <td>AB2729789</td>\n",
       "      <td>BROWN'S REXALL DRUG</td>\n",
       "      <td>441.136114</td>\n",
       "    </tr>\n",
       "    <tr>\n",
       "      <td>AC3096369</td>\n",
       "      <td>CALDER, JAMES S    MD</td>\n",
       "      <td>1000.000000</td>\n",
       "    </tr>\n",
       "    <tr>\n",
       "      <td>AC6556178</td>\n",
       "      <td>CVS PHARMACY, INC.</td>\n",
       "      <td>671.382740</td>\n",
       "    </tr>\n",
       "    <tr>\n",
       "      <td>AD2471883</td>\n",
       "      <td>CVS PHARMACY, INC.</td>\n",
       "      <td>539.449090</td>\n",
       "    </tr>\n",
       "    <tr>\n",
       "      <td>AD8763511</td>\n",
       "      <td>DIXIT, NARENDRA BEHARILAL DMD</td>\n",
       "      <td>1000.000000</td>\n",
       "    </tr>\n",
       "    <tr>\n",
       "      <td>...</td>\n",
       "      <td>...</td>\n",
       "      <td>...</td>\n",
       "    </tr>\n",
       "    <tr>\n",
       "      <td>FW0441092</td>\n",
       "      <td>WALGREEN EASTERN CO., INC.</td>\n",
       "      <td>321.953010</td>\n",
       "    </tr>\n",
       "    <tr>\n",
       "      <td>FW0511510</td>\n",
       "      <td>WHITTIER HEALTH PHARMACY INC</td>\n",
       "      <td>602.648148</td>\n",
       "    </tr>\n",
       "    <tr>\n",
       "      <td>FW1439795</td>\n",
       "      <td>WALGREEN EASTERN CO., INC.</td>\n",
       "      <td>371.633282</td>\n",
       "    </tr>\n",
       "    <tr>\n",
       "      <td>FW1815351</td>\n",
       "      <td>WALGREEN EASTERN CO. INC.</td>\n",
       "      <td>573.724296</td>\n",
       "    </tr>\n",
       "    <tr>\n",
       "      <td>FW3140845</td>\n",
       "      <td>WALGREEN EASTERN CO INC</td>\n",
       "      <td>321.333333</td>\n",
       "    </tr>\n",
       "  </tbody>\n",
       "</table>\n",
       "<p>190 rows × 2 columns</p>\n",
       "</div>"
      ],
      "text/plain": [
       "                                 buyer_name  dosage_per_order\n",
       "BUYER_DEA_NO                                                 \n",
       "AB2729789               BROWN'S REXALL DRUG        441.136114\n",
       "AC3096369             CALDER, JAMES S    MD       1000.000000\n",
       "AC6556178                CVS PHARMACY, INC.        671.382740\n",
       "AD2471883                CVS PHARMACY, INC.        539.449090\n",
       "AD8763511     DIXIT, NARENDRA BEHARILAL DMD       1000.000000\n",
       "...                                     ...               ...\n",
       "FW0441092        WALGREEN EASTERN CO., INC.        321.953010\n",
       "FW0511510      WHITTIER HEALTH PHARMACY INC        602.648148\n",
       "FW1439795        WALGREEN EASTERN CO., INC.        371.633282\n",
       "FW1815351         WALGREEN EASTERN CO. INC.        573.724296\n",
       "FW3140845           WALGREEN EASTERN CO INC        321.333333\n",
       "\n",
       "[190 rows x 2 columns]"
      ]
     },
     "execution_count": 45,
     "metadata": {},
     "output_type": "execute_result"
    }
   ],
   "source": [
    "dpodf"
   ]
  },
  {
   "cell_type": "code",
   "execution_count": 53,
   "metadata": {},
   "outputs": [
    {
     "data": {
      "text/plain": [
       "<matplotlib.axes._subplots.AxesSubplot at 0x7fcf674d6890>"
      ]
     },
     "execution_count": 53,
     "metadata": {},
     "output_type": "execute_result"
    },
    {
     "data": {
      "image/png": "[encoded data removed]",
      "text/plain": [
       "<Figure size 432x288 with 1 Axes>"
      ]
     },
     "metadata": {
      "needs_background": "light"
     },
     "output_type": "display_data"
    }
   ],
   "source": [
    "sns.distplot(dpodf.dosage_per_order)"
   ]
  },
  {
   "cell_type": "code",
   "execution_count": 54,
   "metadata": {},
   "outputs": [
    {
     "data": {
      "text/html": [
       "<div>\n",
       "<style scoped>\n",
       "    .dataframe tbody tr th:only-of-type {\n",
       "        vertical-align: middle;\n",
       "    }\n",
       "\n",
       "    .dataframe tbody tr th {\n",
       "        vertical-align: top;\n",
       "    }\n",
       "\n",
       "    .dataframe thead th {\n",
       "        text-align: right;\n",
       "    }\n",
       "</style>\n",
       "<table border=\"1\" class=\"dataframe\">\n",
       "  <thead>\n",
       "    <tr style=\"text-align: right;\">\n",
       "      <th></th>\n",
       "      <th>buyer_name</th>\n",
       "      <th>dosage_per_order</th>\n",
       "    </tr>\n",
       "    <tr>\n",
       "      <th>BUYER_DEA_NO</th>\n",
       "      <th></th>\n",
       "      <th></th>\n",
       "    </tr>\n",
       "  </thead>\n",
       "  <tbody>\n",
       "    <tr>\n",
       "      <td>AS1955888</td>\n",
       "      <td>D A W INC, DBA STRAND PHARMACY</td>\n",
       "      <td>1270.378788</td>\n",
       "    </tr>\n",
       "    <tr>\n",
       "      <td>AS3006093</td>\n",
       "      <td>SULLIVAN'S PHARMACY INC</td>\n",
       "      <td>1026.364266</td>\n",
       "    </tr>\n",
       "    <tr>\n",
       "      <td>BE9056575</td>\n",
       "      <td>EGLESTON SQUARE PHARMACY INC</td>\n",
       "      <td>1073.214286</td>\n",
       "    </tr>\n",
       "  </tbody>\n",
       "</table>\n",
       "</div>"
      ],
      "text/plain": [
       "                                  buyer_name  dosage_per_order\n",
       "BUYER_DEA_NO                                                  \n",
       "AS1955888     D A W INC, DBA STRAND PHARMACY       1270.378788\n",
       "AS3006093            SULLIVAN'S PHARMACY INC       1026.364266\n",
       "BE9056575       EGLESTON SQUARE PHARMACY INC       1073.214286"
      ]
     },
     "execution_count": 54,
     "metadata": {},
     "output_type": "execute_result"
    }
   ],
   "source": [
    "dpodf.loc[dpodf.dosage_per_order>1000]"
   ]
  },
  {
   "cell_type": "code",
   "execution_count": 58,
   "metadata": {},
   "outputs": [],
   "source": [
    "dosagePerOrderPerYear=rawdf['DOSAGE_UNIT'].groupby(by=[rawdf.BUYER_DEA_NO,rawdf.TRANSACTION_DATE.dt.year] ).mean()"
   ]
  },
  {
   "cell_type": "code",
   "execution_count": 59,
   "metadata": {},
   "outputs": [
    {
     "data": {
      "text/plain": [
       "BUYER_DEA_NO  TRANSACTION_DATE\n",
       "AB2729789     2006                440.735294\n",
       "              2007                476.424051\n",
       "              2008                503.429603\n",
       "              2009                476.160338\n",
       "              2010                401.141553\n",
       "Name: DOSAGE_UNIT, dtype: float64"
      ]
     },
     "execution_count": 59,
     "metadata": {},
     "output_type": "execute_result"
    }
   ],
   "source": [
    "dosagePerOrderPerYear.head()"
   ]
  },
  {
   "cell_type": "code",
   "execution_count": 62,
   "metadata": {},
   "outputs": [
    {
     "data": {
      "text/plain": [
       "MultiIndex([('AB2729789', 2006),\n",
       "            ('AB2729789', 2007),\n",
       "            ('AB2729789', 2008),\n",
       "            ('AB2729789', 2009),\n",
       "            ('AB2729789', 2010),\n",
       "            ('AB2729789', 2011),\n",
       "            ('AB2729789', 2012),\n",
       "            ('AC3096369', 2008),\n",
       "            ('AC6556178', 2006),\n",
       "            ('AC6556178', 2007),\n",
       "            ...\n",
       "            ('FW0511510', 2011),\n",
       "            ('FW0511510', 2012),\n",
       "            ('FW1439795', 2009),\n",
       "            ('FW1439795', 2010),\n",
       "            ('FW1439795', 2011),\n",
       "            ('FW1439795', 2012),\n",
       "            ('FW1815351', 2010),\n",
       "            ('FW1815351', 2011),\n",
       "            ('FW1815351', 2012),\n",
       "            ('FW3140845', 2012)],\n",
       "           names=['BUYER_DEA_NO', 'TRANSACTION_DATE'], length=921)"
      ]
     },
     "execution_count": 62,
     "metadata": {},
     "output_type": "execute_result"
    }
   ],
   "source": [
    "dosagePerOrderPerYear.index"
   ]
  },
  {
   "cell_type": "code",
   "execution_count": 63,
   "metadata": {},
   "outputs": [
    {
     "data": {
      "text/plain": [
       "(921,)"
      ]
     },
     "execution_count": 63,
     "metadata": {},
     "output_type": "execute_result"
    }
   ],
   "source": [
    "dosagePerOrderPerYear.shape"
   ]
  },
  {
   "cell_type": "code",
   "execution_count": 64,
   "metadata": {},
   "outputs": [
    {
     "data": {
      "text/plain": [
       "BUYER_DEA_NO  TRANSACTION_DATE\n",
       "FW1439795     2012                378.614719\n",
       "FW1815351     2010                608.915663\n",
       "              2011                556.984479\n",
       "              2012                557.941834\n",
       "FW3140845     2012                321.333333\n",
       "Name: DOSAGE_UNIT, dtype: float64"
      ]
     },
     "execution_count": 64,
     "metadata": {},
     "output_type": "execute_result"
    }
   ],
   "source": [
    "dosagePerOrderPerYear.tail()"
   ]
  },
  {
   "cell_type": "code",
   "execution_count": 84,
   "metadata": {},
   "outputs": [],
   "source": [
    "temp=rawdf.pivot_table(values='DOSAGE_UNIT', aggfunc=np.mean , index=rawdf.BUYER_DEA_NO, columns=rawdf.TRANSACTION_DATE.dt.year ,fill_value=0 )"
   ]
  },
  {
   "cell_type": "code",
   "execution_count": 85,
   "metadata": {},
   "outputs": [
    {
     "data": {
      "text/html": [
       "<div>\n",
       "<style scoped>\n",
       "    .dataframe tbody tr th:only-of-type {\n",
       "        vertical-align: middle;\n",
       "    }\n",
       "\n",
       "    .dataframe tbody tr th {\n",
       "        vertical-align: top;\n",
       "    }\n",
       "\n",
       "    .dataframe thead th {\n",
       "        text-align: right;\n",
       "    }\n",
       "</style>\n",
       "<table border=\"1\" class=\"dataframe\">\n",
       "  <thead>\n",
       "    <tr style=\"text-align: right;\">\n",
       "      <th>TRANSACTION_DATE</th>\n",
       "      <th>2006</th>\n",
       "      <th>2007</th>\n",
       "      <th>2008</th>\n",
       "      <th>2009</th>\n",
       "      <th>2010</th>\n",
       "      <th>2011</th>\n",
       "      <th>2012</th>\n",
       "    </tr>\n",
       "    <tr>\n",
       "      <th>BUYER_DEA_NO</th>\n",
       "      <th></th>\n",
       "      <th></th>\n",
       "      <th></th>\n",
       "      <th></th>\n",
       "      <th></th>\n",
       "      <th></th>\n",
       "      <th></th>\n",
       "    </tr>\n",
       "  </thead>\n",
       "  <tbody>\n",
       "    <tr>\n",
       "      <td>AB2729789</td>\n",
       "      <td>440.735294</td>\n",
       "      <td>476.424051</td>\n",
       "      <td>503.429603</td>\n",
       "      <td>476.160338</td>\n",
       "      <td>401.141553</td>\n",
       "      <td>382.568807</td>\n",
       "      <td>371.162791</td>\n",
       "    </tr>\n",
       "    <tr>\n",
       "      <td>AC3096369</td>\n",
       "      <td>0.000000</td>\n",
       "      <td>0.000000</td>\n",
       "      <td>1000.000000</td>\n",
       "      <td>0.000000</td>\n",
       "      <td>0.000000</td>\n",
       "      <td>0.000000</td>\n",
       "      <td>0.000000</td>\n",
       "    </tr>\n",
       "    <tr>\n",
       "      <td>AC6556178</td>\n",
       "      <td>561.788618</td>\n",
       "      <td>766.810345</td>\n",
       "      <td>773.304158</td>\n",
       "      <td>733.583960</td>\n",
       "      <td>659.777778</td>\n",
       "      <td>627.114428</td>\n",
       "      <td>585.871965</td>\n",
       "    </tr>\n",
       "    <tr>\n",
       "      <td>AD2471883</td>\n",
       "      <td>464.893617</td>\n",
       "      <td>535.135135</td>\n",
       "      <td>490.522876</td>\n",
       "      <td>561.290323</td>\n",
       "      <td>587.947883</td>\n",
       "      <td>560.691824</td>\n",
       "      <td>572.695035</td>\n",
       "    </tr>\n",
       "    <tr>\n",
       "      <td>AD8763511</td>\n",
       "      <td>1000.000000</td>\n",
       "      <td>1000.000000</td>\n",
       "      <td>0.000000</td>\n",
       "      <td>750.000000</td>\n",
       "      <td>0.000000</td>\n",
       "      <td>1000.000000</td>\n",
       "      <td>1500.000000</td>\n",
       "    </tr>\n",
       "  </tbody>\n",
       "</table>\n",
       "</div>"
      ],
      "text/plain": [
       "TRANSACTION_DATE         2006         2007         2008        2009  \\\n",
       "BUYER_DEA_NO                                                          \n",
       "AB2729789          440.735294   476.424051   503.429603  476.160338   \n",
       "AC3096369            0.000000     0.000000  1000.000000    0.000000   \n",
       "AC6556178          561.788618   766.810345   773.304158  733.583960   \n",
       "AD2471883          464.893617   535.135135   490.522876  561.290323   \n",
       "AD8763511         1000.000000  1000.000000     0.000000  750.000000   \n",
       "\n",
       "TRANSACTION_DATE        2010         2011         2012  \n",
       "BUYER_DEA_NO                                            \n",
       "AB2729789         401.141553   382.568807   371.162791  \n",
       "AC3096369           0.000000     0.000000     0.000000  \n",
       "AC6556178         659.777778   627.114428   585.871965  \n",
       "AD2471883         587.947883   560.691824   572.695035  \n",
       "AD8763511           0.000000  1000.000000  1500.000000  "
      ]
     },
     "execution_count": 85,
     "metadata": {},
     "output_type": "execute_result"
    }
   ],
   "source": [
    "temp.head()"
   ]
  },
  {
   "cell_type": "code",
   "execution_count": null,
   "metadata": {},
   "outputs": [],
   "source": []
  }
 ],
 "metadata": {
  "kernelspec": {
   "display_name": "Python 3",
   "language": "python",
   "name": "python3"
  },
  "language_info": {
   "codemirror_mode": {
    "name": "ipython",
    "version": 3
   },
   "file_extension": ".py",
   "mimetype": "text/x-python",
   "name": "python",
   "nbconvert_exporter": "python",
   "pygments_lexer": "ipython3",
   "version": "3.7.4"
  }
 },
 "nbformat": 4,
 "nbformat_minor": 4
}
