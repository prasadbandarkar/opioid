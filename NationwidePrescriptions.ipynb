{
 "cells": [
  {
   "cell_type": "code",
   "execution_count": 1,
   "metadata": {},
   "outputs": [],
   "source": [
    "import pandas as pd\n",
    "import numpy as np\n",
    "import matplotlib.pyplot as plt\n",
    "import seaborn as sns"
   ]
  },
  {
   "cell_type": "code",
   "execution_count": 2,
   "metadata": {},
   "outputs": [],
   "source": [
    "dateparse = lambda x: pd.datetime.strptime(x, '%m%d%Y')"
   ]
  },
  {
   "cell_type": "code",
   "execution_count": 21,
   "metadata": {},
   "outputs": [],
   "source": [
    "cols=['TRANSACTION_DATE','DOSAGE_UNIT','BUYER_COUNTY']\n",
    "coldtypes={ 'DOSAGE_UNIT':np.float32 , 'BUYER_COUNTY':'category' }\n",
    "\n",
    "change2year=lambda x : int(x[-4:])"
   ]
  },
  {
   "cell_type": "code",
   "execution_count": 7,
   "metadata": {},
   "outputs": [
    {
     "data": {
      "text/plain": [
       "finfo(resolution=1e-06, min=-3.4028235e+38, max=3.4028235e+38, dtype=float32)"
      ]
     },
     "execution_count": 7,
     "metadata": {},
     "output_type": "execute_result"
    }
   ],
   "source": [
    "np.finfo(np.float32)"
   ]
  },
  {
   "cell_type": "code",
   "execution_count": 20,
   "metadata": {},
   "outputs": [
    {
     "name": "stdout",
     "output_type": "stream",
     "text": [
      "789 ms ± 38.3 ms per loop (mean ± std. dev. of 7 runs, 1 loop each)\n"
     ]
    }
   ],
   "source": [
    "%%timeit\n",
    "tempdf=pd.read_csv('../prescription/arcos-ma-suffolk-25025-itemized.tsv',sep='\\t', \n",
    "                   usecols= cols , dtype=coldtypes , converters={ 'TRANSACTION_DATE':change2year } )"
   ]
  },
  {
   "cell_type": "code",
   "execution_count": 15,
   "metadata": {},
   "outputs": [
    {
     "data": {
      "text/html": [
       "<div>\n",
       "<style scoped>\n",
       "    .dataframe tbody tr th:only-of-type {\n",
       "        vertical-align: middle;\n",
       "    }\n",
       "\n",
       "    .dataframe tbody tr th {\n",
       "        vertical-align: top;\n",
       "    }\n",
       "\n",
       "    .dataframe thead th {\n",
       "        text-align: right;\n",
       "    }\n",
       "</style>\n",
       "<table border=\"1\" class=\"dataframe\">\n",
       "  <thead>\n",
       "    <tr style=\"text-align: right;\">\n",
       "      <th></th>\n",
       "      <th>BUYER_COUNTY</th>\n",
       "      <th>TRANSACTION_DATE</th>\n",
       "      <th>DOSAGE_UNIT</th>\n",
       "    </tr>\n",
       "  </thead>\n",
       "  <tbody>\n",
       "    <tr>\n",
       "      <td>0</td>\n",
       "      <td>SUFFOLK</td>\n",
       "      <td>2009</td>\n",
       "      <td>200.0</td>\n",
       "    </tr>\n",
       "    <tr>\n",
       "      <td>1</td>\n",
       "      <td>SUFFOLK</td>\n",
       "      <td>2007</td>\n",
       "      <td>100.0</td>\n",
       "    </tr>\n",
       "    <tr>\n",
       "      <td>2</td>\n",
       "      <td>SUFFOLK</td>\n",
       "      <td>2006</td>\n",
       "      <td>200.0</td>\n",
       "    </tr>\n",
       "    <tr>\n",
       "      <td>3</td>\n",
       "      <td>SUFFOLK</td>\n",
       "      <td>2006</td>\n",
       "      <td>500.0</td>\n",
       "    </tr>\n",
       "    <tr>\n",
       "      <td>4</td>\n",
       "      <td>SUFFOLK</td>\n",
       "      <td>2007</td>\n",
       "      <td>200.0</td>\n",
       "    </tr>\n",
       "  </tbody>\n",
       "</table>\n",
       "</div>"
      ],
      "text/plain": [
       "  BUYER_COUNTY  TRANSACTION_DATE  DOSAGE_UNIT\n",
       "0      SUFFOLK              2009        200.0\n",
       "1      SUFFOLK              2007        100.0\n",
       "2      SUFFOLK              2006        200.0\n",
       "3      SUFFOLK              2006        500.0\n",
       "4      SUFFOLK              2007        200.0"
      ]
     },
     "execution_count": 15,
     "metadata": {},
     "output_type": "execute_result"
    }
   ],
   "source": [
    "tempdf.head()"
   ]
  },
  {
   "cell_type": "code",
   "execution_count": 16,
   "metadata": {},
   "outputs": [
    {
     "name": "stdout",
     "output_type": "stream",
     "text": [
      "<class 'pandas.core.frame.DataFrame'>\n",
      "RangeIndex: 10000 entries, 0 to 9999\n",
      "Data columns (total 3 columns):\n",
      "BUYER_COUNTY        10000 non-null category\n",
      "TRANSACTION_DATE    10000 non-null int64\n",
      "DOSAGE_UNIT         10000 non-null float32\n",
      "dtypes: category(1), float32(1), int64(1)\n",
      "memory usage: 127.1 KB\n"
     ]
    }
   ],
   "source": [
    "tempdf.info()"
   ]
  },
  {
   "cell_type": "code",
   "execution_count": 28,
   "metadata": {},
   "outputs": [],
   "source": [
    "#%%timeit\n",
    "nationdf=pd.read_csv('../prescription/arcos_all_washpost.tsv.gz' , sep='\\t', compression='gzip',\n",
    "                   usecols= cols,  dtype=coldtypes , nrows=10000 ,converters={ 'TRANSACTION_DATE':change2year } )"
   ]
  },
  {
   "cell_type": "code",
   "execution_count": 29,
   "metadata": {},
   "outputs": [],
   "source": [
    "#%%timeit\n",
    "nationdfall=pd.read_csv('../prescription/arcos_all_washpost.tsv' , sep='\\t', \n",
    "                   usecols= cols,  dtype=coldtypes , nrows=10000 ,converters={ 'TRANSACTION_DATE':change2year } )"
   ]
  },
  {
   "cell_type": "code",
   "execution_count": 30,
   "metadata": {},
   "outputs": [
    {
     "name": "stdout",
     "output_type": "stream",
     "text": [
      "<class 'pandas.core.frame.DataFrame'>\n",
      "RangeIndex: 10000 entries, 0 to 9999\n",
      "Data columns (total 3 columns):\n",
      "BUYER_COUNTY        9998 non-null category\n",
      "TRANSACTION_DATE    10000 non-null int64\n",
      "DOSAGE_UNIT         10000 non-null float32\n",
      "dtypes: category(1), float32(1), int64(1)\n",
      "memory usage: 149.6 KB\n"
     ]
    }
   ],
   "source": [
    "nationdf.info()"
   ]
  },
  {
   "cell_type": "code",
   "execution_count": 31,
   "metadata": {},
   "outputs": [
    {
     "name": "stdout",
     "output_type": "stream",
     "text": [
      "<class 'pandas.core.frame.DataFrame'>\n",
      "RangeIndex: 10000 entries, 0 to 9999\n",
      "Data columns (total 3 columns):\n",
      "BUYER_COUNTY        9998 non-null category\n",
      "TRANSACTION_DATE    10000 non-null int64\n",
      "DOSAGE_UNIT         10000 non-null float32\n",
      "dtypes: category(1), float32(1), int64(1)\n",
      "memory usage: 149.6 KB\n"
     ]
    }
   ],
   "source": [
    "nationdfall.info()"
   ]
  },
  {
   "cell_type": "code",
   "execution_count": null,
   "metadata": {},
   "outputs": [],
   "source": []
  }
 ],
 "metadata": {
  "kernelspec": {
   "display_name": "Python 3",
   "language": "python",
   "name": "python3"
  },
  "language_info": {
   "codemirror_mode": {
    "name": "ipython",
    "version": 3
   },
   "file_extension": ".py",
   "mimetype": "text/x-python",
   "name": "python",
   "nbconvert_exporter": "python",
   "pygments_lexer": "ipython3",
   "version": "3.6.7"
  }
 },
 "nbformat": 4,
 "nbformat_minor": 4
}
