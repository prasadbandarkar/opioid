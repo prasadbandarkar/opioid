{
 "cells": [
  {
   "cell_type": "code",
   "execution_count": 1,
   "metadata": {},
   "outputs": [],
   "source": [
    "import pandas as pd\n",
    "import numpy as np\n",
    "import matplotlib.pyplot as plt\n",
    "import seaborn as sns"
   ]
  },
  {
   "cell_type": "code",
   "execution_count": 2,
   "metadata": {},
   "outputs": [],
   "source": [
    "import pickle\n",
    "with open('nation.pkl','rb') as pkldfile :\n",
    "    ndf=pickle.load(pkldfile)"
   ]
  },
  {
   "cell_type": "code",
   "execution_count": 3,
   "metadata": {},
   "outputs": [
    {
     "name": "stdout",
     "output_type": "stream",
     "text": [
      "<class 'pandas.core.frame.DataFrame'>\n",
      "RangeIndex: 178598026 entries, 0 to 178598025\n",
      "Data columns (total 3 columns):\n",
      "BUYER_COUNTY        category\n",
      "TRANSACTION_DATE    category\n",
      "DOSAGE_UNIT         float32\n",
      "dtypes: category(2), float32(1)\n",
      "memory usage: 1.2 GB\n"
     ]
    }
   ],
   "source": [
    "ndf.info()"
   ]
  },
  {
   "cell_type": "code",
   "execution_count": 4,
   "metadata": {},
   "outputs": [
    {
     "data": {
      "text/html": [
       "<div>\n",
       "<style scoped>\n",
       "    .dataframe tbody tr th:only-of-type {\n",
       "        vertical-align: middle;\n",
       "    }\n",
       "\n",
       "    .dataframe tbody tr th {\n",
       "        vertical-align: top;\n",
       "    }\n",
       "\n",
       "    .dataframe thead th {\n",
       "        text-align: right;\n",
       "    }\n",
       "</style>\n",
       "<table border=\"1\" class=\"dataframe\">\n",
       "  <thead>\n",
       "    <tr style=\"text-align: right;\">\n",
       "      <th></th>\n",
       "      <th>DOSAGE_UNIT</th>\n",
       "    </tr>\n",
       "  </thead>\n",
       "  <tbody>\n",
       "    <tr>\n",
       "      <td>count</td>\n",
       "      <td>1.785979e+08</td>\n",
       "    </tr>\n",
       "    <tr>\n",
       "      <td>mean</td>\n",
       "      <td>1.908459e+02</td>\n",
       "    </tr>\n",
       "    <tr>\n",
       "      <td>std</td>\n",
       "      <td>1.348693e+03</td>\n",
       "    </tr>\n",
       "    <tr>\n",
       "      <td>min</td>\n",
       "      <td>6.000000e-05</td>\n",
       "    </tr>\n",
       "    <tr>\n",
       "      <td>25%</td>\n",
       "      <td>1.000000e+02</td>\n",
       "    </tr>\n",
       "    <tr>\n",
       "      <td>50%</td>\n",
       "      <td>2.000000e+02</td>\n",
       "    </tr>\n",
       "    <tr>\n",
       "      <td>75%</td>\n",
       "      <td>5.000000e+02</td>\n",
       "    </tr>\n",
       "    <tr>\n",
       "      <td>max</td>\n",
       "      <td>3.115000e+06</td>\n",
       "    </tr>\n",
       "  </tbody>\n",
       "</table>\n",
       "</div>"
      ],
      "text/plain": [
       "        DOSAGE_UNIT\n",
       "count  1.785979e+08\n",
       "mean   1.908459e+02\n",
       "std    1.348693e+03\n",
       "min    6.000000e-05\n",
       "25%    1.000000e+02\n",
       "50%    2.000000e+02\n",
       "75%    5.000000e+02\n",
       "max    3.115000e+06"
      ]
     },
     "execution_count": 4,
     "metadata": {},
     "output_type": "execute_result"
    }
   ],
   "source": [
    "ndf.describe()"
   ]
  },
  {
   "cell_type": "code",
   "execution_count": null,
   "metadata": {},
   "outputs": [],
   "source": []
  },
  {
   "cell_type": "code",
   "execution_count": 6,
   "metadata": {},
   "outputs": [
    {
     "data": {
      "text/plain": [
       "BUYER_COUNTY        2057\n",
       "TRANSACTION_DATE       0\n",
       "DOSAGE_UNIT           77\n",
       "dtype: int64"
      ]
     },
     "execution_count": 6,
     "metadata": {},
     "output_type": "execute_result"
    }
   ],
   "source": [
    "ndf.isna().sum()"
   ]
  },
  {
   "cell_type": "code",
   "execution_count": 7,
   "metadata": {},
   "outputs": [
    {
     "data": {
      "text/plain": [
       "count     178598026\n",
       "unique            7\n",
       "top            2011\n",
       "freq       28658718\n",
       "Name: TRANSACTION_DATE, dtype: int64"
      ]
     },
     "execution_count": 7,
     "metadata": {},
     "output_type": "execute_result"
    }
   ],
   "source": [
    "ndf.TRANSACTION_DATE.describe()"
   ]
  },
  {
   "cell_type": "code",
   "execution_count": 9,
   "metadata": {},
   "outputs": [
    {
     "data": {
      "text/plain": [
       "[2006, 2007, 2008, 2009, 2010, 2011, 2012]"
      ]
     },
     "execution_count": 9,
     "metadata": {},
     "output_type": "execute_result"
    }
   ],
   "source": [
    "list(ndf.TRANSACTION_DATE.cat.categories)"
   ]
  },
  {
   "cell_type": "code",
   "execution_count": 12,
   "metadata": {},
   "outputs": [
    {
     "data": {
      "text/plain": [
       "(178598026, 3)"
      ]
     },
     "execution_count": 12,
     "metadata": {},
     "output_type": "execute_result"
    }
   ],
   "source": [
    "ndf.shape"
   ]
  },
  {
   "cell_type": "code",
   "execution_count": 14,
   "metadata": {},
   "outputs": [
    {
     "data": {
      "text/plain": [
       "(20918026, 3)"
      ]
     },
     "execution_count": 14,
     "metadata": {},
     "output_type": "execute_result"
    }
   ],
   "source": [
    "ndf[ndf.TRANSACTION_DATE == ndf.TRANSACTION_DATE.cat.categories[0] ].shape"
   ]
  },
  {
   "cell_type": "code",
   "execution_count": 16,
   "metadata": {},
   "outputs": [],
   "source": [
    "pivot4years={}\n",
    "\n",
    "for cat in ndf.TRANSACTION_DATE.cat.categories:\n",
    "    temp=ndf[ndf.TRANSACTION_DATE == cat ]\n",
    "    pivot4years[str(cat)]=temp.pivot_table(values='DOSAGE_UNIT',aggfunc=np.sum,index=temp.BUYER_COUNTY,columns=temp.TRANSACTION_DATE ,fill_value=0)"
   ]
  },
  {
   "cell_type": "code",
   "execution_count": 20,
   "metadata": {
    "collapsed": true
   },
   "outputs": [
    {
     "data": {
      "text/plain": [
       "dict_values([TRANSACTION_DATE       2006\n",
       "BUYER_COUNTY               \n",
       "ADDISON            767400.0\n",
       "AGUADA              49200.0\n",
       "AGUADILLA          192200.0\n",
       "AGUAS BUENAS        28500.0\n",
       "ALACHUA           7333056.0\n",
       "...                     ...\n",
       "NORTHWEST ARCTIC     1920.0\n",
       "RALLS                1500.0\n",
       "EUREKA                100.0\n",
       "REAL                  100.0\n",
       "ALEUTIANS EAST        300.0\n",
       "\n",
       "[1845 rows x 1 columns], TRANSACTION_DATE     2007\n",
       "BUYER_COUNTY             \n",
       "ADDISON            844900\n",
       "AGUADA              49500\n",
       "AGUADILLA          184800\n",
       "AGUAS BUENAS        29400\n",
       "ALACHUA           8139364\n",
       "...                   ...\n",
       "JUDITH BASIN          100\n",
       "DENALI               3500\n",
       "NORTHWEST ARCTIC      240\n",
       "EUREKA                100\n",
       "ALEUTIANS EAST        100\n",
       "\n",
       "[1839 rows x 1 columns], TRANSACTION_DATE       2008\n",
       "BUYER_COUNTY               \n",
       "ADDISON            856050.0\n",
       "AGUADA              38300.0\n",
       "AGUADILLA          163000.0\n",
       "AGUAS BUENAS        28700.0\n",
       "ALACHUA           9100379.0\n",
       "...                     ...\n",
       "CORSON                 30.0\n",
       "JUDITH BASIN          100.0\n",
       "CATRON                200.0\n",
       "NORTHWEST ARCTIC      240.0\n",
       "EUREKA                100.0\n",
       "\n",
       "[1837 rows x 1 columns], TRANSACTION_DATE        2009\n",
       "BUYER_COUNTY                \n",
       "ADDISON             915270.0\n",
       "AGUADA               42500.0\n",
       "AGUADILLA           195130.0\n",
       "AGUAS BUENAS         19200.0\n",
       "ALACHUA           10139373.0\n",
       "...                      ...\n",
       "NOME                   300.0\n",
       "SAGUACHE              1700.0\n",
       "STERLING                30.0\n",
       "JUDITH BASIN           200.0\n",
       "CATRON                 400.0\n",
       "\n",
       "[1840 rows x 1 columns], TRANSACTION_DATE        2010\n",
       "BUYER_COUNTY                \n",
       "ADDISON             868380.0\n",
       "AGUADA               50200.0\n",
       "AGUADILLA           254490.0\n",
       "AGUAS BUENAS         25600.0\n",
       "ALACHUA           10072070.0\n",
       "...                      ...\n",
       "NORTH SLOPE           1100.0\n",
       "NOME                   400.0\n",
       "SAGUACHE               600.0\n",
       "JUDITH BASIN           400.0\n",
       "REAL                   100.0\n",
       "\n",
       "[1837 rows x 1 columns], TRANSACTION_DATE     2011\n",
       "BUYER_COUNTY             \n",
       "ADDISON            827640\n",
       "AGUADA              53730\n",
       "AGUADILLA          257380\n",
       "AGUAS BUENAS        25360\n",
       "ALACHUA           9909269\n",
       "...                   ...\n",
       "NORTH SLOPE          1024\n",
       "THROCKMORTON           40\n",
       "SAGUACHE              500\n",
       "JUDITH BASIN          200\n",
       "WABAUNSEE             100\n",
       "\n",
       "[1840 rows x 1 columns], TRANSACTION_DATE       2012\n",
       "BUYER_COUNTY               \n",
       "ADDISON            753100.0\n",
       "AGUADA              46690.0\n",
       "AGUADILLA          239100.0\n",
       "AGUAS BUENAS        27800.0\n",
       "ALACHUA           8914630.0\n",
       "...                     ...\n",
       "SAGUACHE              700.0\n",
       "SCHLEICHER             20.0\n",
       "JUDITH BASIN          200.0\n",
       "DENALI               1000.0\n",
       "WABAUNSEE             300.0\n",
       "\n",
       "[1845 rows x 1 columns]])"
      ]
     },
     "execution_count": 20,
     "metadata": {},
     "output_type": "execute_result"
    }
   ],
   "source": [
    "pivot4years.values()"
   ]
  },
  {
   "cell_type": "code",
   "execution_count": 21,
   "metadata": {},
   "outputs": [],
   "source": [
    "import pickle\n",
    "pickle.dump(pivot4years, open( \"pivot4years.pkl\", \"wb\" ) )"
   ]
  },
  {
   "cell_type": "code",
   "execution_count": null,
   "metadata": {},
   "outputs": [],
   "source": []
  }
 ],
 "metadata": {
  "kernelspec": {
   "display_name": "Python 3",
   "language": "python",
   "name": "python3"
  },
  "language_info": {
   "codemirror_mode": {
    "name": "ipython",
    "version": 3
   },
   "file_extension": ".py",
   "mimetype": "text/x-python",
   "name": "python",
   "nbconvert_exporter": "python",
   "pygments_lexer": "ipython3",
   "version": "3.7.4"
  }
 },
 "nbformat": 4,
 "nbformat_minor": 2
}
