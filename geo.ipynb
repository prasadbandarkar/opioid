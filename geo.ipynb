{
 "cells": [
  {
   "cell_type": "code",
   "execution_count": 1,
   "metadata": {},
   "outputs": [],
   "source": [
    "import pandas as pd\n",
    "import numpy as np\n",
    "import matplotlib.pyplot as plt\n",
    "import seaborn as sns"
   ]
  },
  {
   "cell_type": "code",
   "execution_count": 2,
   "metadata": {},
   "outputs": [],
   "source": [
    "import pickle\n",
    "with open('pivot4years.pkl','rb') as pkldfile :\n",
    "    pivotByYear=pickle.load(pkldfile)"
   ]
  },
  {
   "cell_type": "code",
   "execution_count": 3,
   "metadata": {},
   "outputs": [
    {
     "data": {
      "text/html": [
       "<div>\n",
       "<style scoped>\n",
       "    .dataframe tbody tr th:only-of-type {\n",
       "        vertical-align: middle;\n",
       "    }\n",
       "\n",
       "    .dataframe tbody tr th {\n",
       "        vertical-align: top;\n",
       "    }\n",
       "\n",
       "    .dataframe thead th {\n",
       "        text-align: right;\n",
       "    }\n",
       "</style>\n",
       "<table border=\"1\" class=\"dataframe\">\n",
       "  <thead>\n",
       "    <tr style=\"text-align: right;\">\n",
       "      <th>TRANSACTION_DATE</th>\n",
       "      <th>2006</th>\n",
       "    </tr>\n",
       "    <tr>\n",
       "      <th>BUYER_COUNTY</th>\n",
       "      <th></th>\n",
       "    </tr>\n",
       "  </thead>\n",
       "  <tbody>\n",
       "    <tr>\n",
       "      <td>ADDISON</td>\n",
       "      <td>767400.0</td>\n",
       "    </tr>\n",
       "    <tr>\n",
       "      <td>AGUADA</td>\n",
       "      <td>49200.0</td>\n",
       "    </tr>\n",
       "    <tr>\n",
       "      <td>AGUADILLA</td>\n",
       "      <td>192200.0</td>\n",
       "    </tr>\n",
       "    <tr>\n",
       "      <td>AGUAS BUENAS</td>\n",
       "      <td>28500.0</td>\n",
       "    </tr>\n",
       "    <tr>\n",
       "      <td>ALACHUA</td>\n",
       "      <td>7333056.0</td>\n",
       "    </tr>\n",
       "  </tbody>\n",
       "</table>\n",
       "</div>"
      ],
      "text/plain": [
       "TRANSACTION_DATE       2006\n",
       "BUYER_COUNTY               \n",
       "ADDISON            767400.0\n",
       "AGUADA              49200.0\n",
       "AGUADILLA          192200.0\n",
       "AGUAS BUENAS        28500.0\n",
       "ALACHUA           7333056.0"
      ]
     },
     "execution_count": 3,
     "metadata": {},
     "output_type": "execute_result"
    }
   ],
   "source": [
    "pivotByYear['2006'].head()"
   ]
  },
  {
   "cell_type": "code",
   "execution_count": 4,
   "metadata": {},
   "outputs": [
    {
     "name": "stdout",
     "output_type": "stream",
     "text": [
      "(1845, 1)\n",
      "(1839, 1)\n",
      "(1837, 1)\n",
      "(1840, 1)\n",
      "(1837, 1)\n",
      "(1840, 1)\n",
      "(1845, 1)\n"
     ]
    }
   ],
   "source": [
    "for i in pivotByYear.keys() : print(pivotByYear[i].shape) "
   ]
  },
  {
   "cell_type": "code",
   "execution_count": 5,
   "metadata": {},
   "outputs": [],
   "source": [
    "import geopandas as gpd\n",
    "uscounties = gpd.read_file('tl_2018_us_county/tl_2018_us_county.shp')\n"
   ]
  },
  {
   "cell_type": "code",
   "execution_count": 6,
   "metadata": {},
   "outputs": [
    {
     "data": {
      "text/html": [
       "<div>\n",
       "<style scoped>\n",
       "    .dataframe tbody tr th:only-of-type {\n",
       "        vertical-align: middle;\n",
       "    }\n",
       "\n",
       "    .dataframe tbody tr th {\n",
       "        vertical-align: top;\n",
       "    }\n",
       "\n",
       "    .dataframe thead th {\n",
       "        text-align: right;\n",
       "    }\n",
       "</style>\n",
       "<table border=\"1\" class=\"dataframe\">\n",
       "  <thead>\n",
       "    <tr style=\"text-align: right;\">\n",
       "      <th></th>\n",
       "      <th>STATEFP</th>\n",
       "      <th>COUNTYFP</th>\n",
       "      <th>COUNTYNS</th>\n",
       "      <th>GEOID</th>\n",
       "      <th>NAME</th>\n",
       "      <th>NAMELSAD</th>\n",
       "      <th>LSAD</th>\n",
       "      <th>CLASSFP</th>\n",
       "      <th>MTFCC</th>\n",
       "      <th>CSAFP</th>\n",
       "      <th>CBSAFP</th>\n",
       "      <th>METDIVFP</th>\n",
       "      <th>FUNCSTAT</th>\n",
       "      <th>ALAND</th>\n",
       "      <th>AWATER</th>\n",
       "      <th>INTPTLAT</th>\n",
       "      <th>INTPTLON</th>\n",
       "      <th>geometry</th>\n",
       "    </tr>\n",
       "  </thead>\n",
       "  <tbody>\n",
       "    <tr>\n",
       "      <td>0</td>\n",
       "      <td>31</td>\n",
       "      <td>039</td>\n",
       "      <td>00835841</td>\n",
       "      <td>31039</td>\n",
       "      <td>Cuming</td>\n",
       "      <td>Cuming County</td>\n",
       "      <td>06</td>\n",
       "      <td>H1</td>\n",
       "      <td>G4020</td>\n",
       "      <td>None</td>\n",
       "      <td>None</td>\n",
       "      <td>None</td>\n",
       "      <td>A</td>\n",
       "      <td>1477652222</td>\n",
       "      <td>10690952</td>\n",
       "      <td>+41.9158651</td>\n",
       "      <td>-096.7885168</td>\n",
       "      <td>POLYGON ((-97.01952 42.00410, -97.01952 42.004...</td>\n",
       "    </tr>\n",
       "    <tr>\n",
       "      <td>1</td>\n",
       "      <td>53</td>\n",
       "      <td>069</td>\n",
       "      <td>01513275</td>\n",
       "      <td>53069</td>\n",
       "      <td>Wahkiakum</td>\n",
       "      <td>Wahkiakum County</td>\n",
       "      <td>06</td>\n",
       "      <td>H1</td>\n",
       "      <td>G4020</td>\n",
       "      <td>None</td>\n",
       "      <td>None</td>\n",
       "      <td>None</td>\n",
       "      <td>A</td>\n",
       "      <td>680956809</td>\n",
       "      <td>61588406</td>\n",
       "      <td>+46.2946377</td>\n",
       "      <td>-123.4244583</td>\n",
       "      <td>POLYGON ((-123.43639 46.23820, -123.44759 46.2...</td>\n",
       "    </tr>\n",
       "    <tr>\n",
       "      <td>2</td>\n",
       "      <td>35</td>\n",
       "      <td>011</td>\n",
       "      <td>00933054</td>\n",
       "      <td>35011</td>\n",
       "      <td>De Baca</td>\n",
       "      <td>De Baca County</td>\n",
       "      <td>06</td>\n",
       "      <td>H1</td>\n",
       "      <td>G4020</td>\n",
       "      <td>None</td>\n",
       "      <td>None</td>\n",
       "      <td>None</td>\n",
       "      <td>A</td>\n",
       "      <td>6016819484</td>\n",
       "      <td>29089486</td>\n",
       "      <td>+34.3592729</td>\n",
       "      <td>-104.3686961</td>\n",
       "      <td>POLYGON ((-104.56739 33.99757, -104.56772 33.9...</td>\n",
       "    </tr>\n",
       "    <tr>\n",
       "      <td>3</td>\n",
       "      <td>31</td>\n",
       "      <td>109</td>\n",
       "      <td>00835876</td>\n",
       "      <td>31109</td>\n",
       "      <td>Lancaster</td>\n",
       "      <td>Lancaster County</td>\n",
       "      <td>06</td>\n",
       "      <td>H1</td>\n",
       "      <td>G4020</td>\n",
       "      <td>339</td>\n",
       "      <td>30700</td>\n",
       "      <td>None</td>\n",
       "      <td>A</td>\n",
       "      <td>2169287528</td>\n",
       "      <td>22832516</td>\n",
       "      <td>+40.7835474</td>\n",
       "      <td>-096.6886584</td>\n",
       "      <td>POLYGON ((-96.91075 40.78494, -96.91075 40.790...</td>\n",
       "    </tr>\n",
       "    <tr>\n",
       "      <td>4</td>\n",
       "      <td>31</td>\n",
       "      <td>129</td>\n",
       "      <td>00835886</td>\n",
       "      <td>31129</td>\n",
       "      <td>Nuckolls</td>\n",
       "      <td>Nuckolls County</td>\n",
       "      <td>06</td>\n",
       "      <td>H1</td>\n",
       "      <td>G4020</td>\n",
       "      <td>None</td>\n",
       "      <td>None</td>\n",
       "      <td>None</td>\n",
       "      <td>A</td>\n",
       "      <td>1489645187</td>\n",
       "      <td>1718484</td>\n",
       "      <td>+40.1764918</td>\n",
       "      <td>-098.0468422</td>\n",
       "      <td>POLYGON ((-98.27367 40.08940, -98.27367 40.089...</td>\n",
       "    </tr>\n",
       "  </tbody>\n",
       "</table>\n",
       "</div>"
      ],
      "text/plain": [
       "  STATEFP COUNTYFP  COUNTYNS  GEOID       NAME          NAMELSAD LSAD CLASSFP  \\\n",
       "0      31      039  00835841  31039     Cuming     Cuming County   06      H1   \n",
       "1      53      069  01513275  53069  Wahkiakum  Wahkiakum County   06      H1   \n",
       "2      35      011  00933054  35011    De Baca    De Baca County   06      H1   \n",
       "3      31      109  00835876  31109  Lancaster  Lancaster County   06      H1   \n",
       "4      31      129  00835886  31129   Nuckolls   Nuckolls County   06      H1   \n",
       "\n",
       "   MTFCC CSAFP CBSAFP METDIVFP FUNCSTAT       ALAND    AWATER     INTPTLAT  \\\n",
       "0  G4020  None   None     None        A  1477652222  10690952  +41.9158651   \n",
       "1  G4020  None   None     None        A   680956809  61588406  +46.2946377   \n",
       "2  G4020  None   None     None        A  6016819484  29089486  +34.3592729   \n",
       "3  G4020   339  30700     None        A  2169287528  22832516  +40.7835474   \n",
       "4  G4020  None   None     None        A  1489645187   1718484  +40.1764918   \n",
       "\n",
       "       INTPTLON                                           geometry  \n",
       "0  -096.7885168  POLYGON ((-97.01952 42.00410, -97.01952 42.004...  \n",
       "1  -123.4244583  POLYGON ((-123.43639 46.23820, -123.44759 46.2...  \n",
       "2  -104.3686961  POLYGON ((-104.56739 33.99757, -104.56772 33.9...  \n",
       "3  -096.6886584  POLYGON ((-96.91075 40.78494, -96.91075 40.790...  \n",
       "4  -098.0468422  POLYGON ((-98.27367 40.08940, -98.27367 40.089...  "
      ]
     },
     "execution_count": 6,
     "metadata": {},
     "output_type": "execute_result"
    }
   ],
   "source": [
    "uscounties.head()"
   ]
  },
  {
   "cell_type": "code",
   "execution_count": 7,
   "metadata": {},
   "outputs": [
    {
     "data": {
      "text/plain": [
       "(3233, 18)"
      ]
     },
     "execution_count": 7,
     "metadata": {},
     "output_type": "execute_result"
    }
   ],
   "source": [
    "uscounties.shape"
   ]
  },
  {
   "cell_type": "code",
   "execution_count": 8,
   "metadata": {},
   "outputs": [],
   "source": [
    "smallcounties = gpd.read_file('cb_2018_us_county_500k/cb_2018_us_county_500k.shp')\n"
   ]
  },
  {
   "cell_type": "code",
   "execution_count": 9,
   "metadata": {},
   "outputs": [
    {
     "data": {
      "text/html": [
       "<div>\n",
       "<style scoped>\n",
       "    .dataframe tbody tr th:only-of-type {\n",
       "        vertical-align: middle;\n",
       "    }\n",
       "\n",
       "    .dataframe tbody tr th {\n",
       "        vertical-align: top;\n",
       "    }\n",
       "\n",
       "    .dataframe thead th {\n",
       "        text-align: right;\n",
       "    }\n",
       "</style>\n",
       "<table border=\"1\" class=\"dataframe\">\n",
       "  <thead>\n",
       "    <tr style=\"text-align: right;\">\n",
       "      <th></th>\n",
       "      <th>STATEFP</th>\n",
       "      <th>COUNTYFP</th>\n",
       "      <th>COUNTYNS</th>\n",
       "      <th>AFFGEOID</th>\n",
       "      <th>GEOID</th>\n",
       "      <th>NAME</th>\n",
       "      <th>LSAD</th>\n",
       "      <th>ALAND</th>\n",
       "      <th>AWATER</th>\n",
       "      <th>geometry</th>\n",
       "    </tr>\n",
       "  </thead>\n",
       "  <tbody>\n",
       "    <tr>\n",
       "      <td>0</td>\n",
       "      <td>21</td>\n",
       "      <td>007</td>\n",
       "      <td>00516850</td>\n",
       "      <td>0500000US21007</td>\n",
       "      <td>21007</td>\n",
       "      <td>Ballard</td>\n",
       "      <td>06</td>\n",
       "      <td>639387454</td>\n",
       "      <td>69473325</td>\n",
       "      <td>POLYGON ((-89.18137 37.04630, -89.17938 37.053...</td>\n",
       "    </tr>\n",
       "    <tr>\n",
       "      <td>1</td>\n",
       "      <td>21</td>\n",
       "      <td>017</td>\n",
       "      <td>00516855</td>\n",
       "      <td>0500000US21017</td>\n",
       "      <td>21017</td>\n",
       "      <td>Bourbon</td>\n",
       "      <td>06</td>\n",
       "      <td>750439351</td>\n",
       "      <td>4829777</td>\n",
       "      <td>POLYGON ((-84.44266 38.28324, -84.44114 38.283...</td>\n",
       "    </tr>\n",
       "    <tr>\n",
       "      <td>2</td>\n",
       "      <td>21</td>\n",
       "      <td>031</td>\n",
       "      <td>00516862</td>\n",
       "      <td>0500000US21031</td>\n",
       "      <td>21031</td>\n",
       "      <td>Butler</td>\n",
       "      <td>06</td>\n",
       "      <td>1103571974</td>\n",
       "      <td>13943044</td>\n",
       "      <td>POLYGON ((-86.94486 37.07341, -86.94346 37.074...</td>\n",
       "    </tr>\n",
       "    <tr>\n",
       "      <td>3</td>\n",
       "      <td>21</td>\n",
       "      <td>065</td>\n",
       "      <td>00516879</td>\n",
       "      <td>0500000US21065</td>\n",
       "      <td>21065</td>\n",
       "      <td>Estill</td>\n",
       "      <td>06</td>\n",
       "      <td>655509930</td>\n",
       "      <td>6516335</td>\n",
       "      <td>POLYGON ((-84.12662 37.64540, -84.12483 37.646...</td>\n",
       "    </tr>\n",
       "    <tr>\n",
       "      <td>4</td>\n",
       "      <td>21</td>\n",
       "      <td>069</td>\n",
       "      <td>00516881</td>\n",
       "      <td>0500000US21069</td>\n",
       "      <td>21069</td>\n",
       "      <td>Fleming</td>\n",
       "      <td>06</td>\n",
       "      <td>902727151</td>\n",
       "      <td>7182793</td>\n",
       "      <td>POLYGON ((-83.98428 38.44549, -83.98246 38.450...</td>\n",
       "    </tr>\n",
       "  </tbody>\n",
       "</table>\n",
       "</div>"
      ],
      "text/plain": [
       "  STATEFP COUNTYFP  COUNTYNS        AFFGEOID  GEOID     NAME LSAD       ALAND  \\\n",
       "0      21      007  00516850  0500000US21007  21007  Ballard   06   639387454   \n",
       "1      21      017  00516855  0500000US21017  21017  Bourbon   06   750439351   \n",
       "2      21      031  00516862  0500000US21031  21031   Butler   06  1103571974   \n",
       "3      21      065  00516879  0500000US21065  21065   Estill   06   655509930   \n",
       "4      21      069  00516881  0500000US21069  21069  Fleming   06   902727151   \n",
       "\n",
       "     AWATER                                           geometry  \n",
       "0  69473325  POLYGON ((-89.18137 37.04630, -89.17938 37.053...  \n",
       "1   4829777  POLYGON ((-84.44266 38.28324, -84.44114 38.283...  \n",
       "2  13943044  POLYGON ((-86.94486 37.07341, -86.94346 37.074...  \n",
       "3   6516335  POLYGON ((-84.12662 37.64540, -84.12483 37.646...  \n",
       "4   7182793  POLYGON ((-83.98428 38.44549, -83.98246 38.450...  "
      ]
     },
     "execution_count": 9,
     "metadata": {},
     "output_type": "execute_result"
    }
   ],
   "source": [
    "smallcounties.head()"
   ]
  },
  {
   "cell_type": "code",
   "execution_count": 10,
   "metadata": {},
   "outputs": [
    {
     "name": "stdout",
     "output_type": "stream",
     "text": [
      "<class 'geopandas.geodataframe.GeoDataFrame'>\n",
      "RangeIndex: 3233 entries, 0 to 3232\n",
      "Data columns (total 10 columns):\n",
      "STATEFP     3233 non-null object\n",
      "COUNTYFP    3233 non-null object\n",
      "COUNTYNS    3233 non-null object\n",
      "AFFGEOID    3233 non-null object\n",
      "GEOID       3233 non-null object\n",
      "NAME        3233 non-null object\n",
      "LSAD        3233 non-null object\n",
      "ALAND       3233 non-null int64\n",
      "AWATER      3233 non-null int64\n",
      "geometry    3233 non-null geometry\n",
      "dtypes: geometry(1), int64(2), object(7)\n",
      "memory usage: 252.7+ KB\n"
     ]
    }
   ],
   "source": [
    "smallcounties.info()"
   ]
  },
  {
   "cell_type": "code",
   "execution_count": 11,
   "metadata": {},
   "outputs": [
    {
     "data": {
      "text/html": [
       "<div>\n",
       "<style scoped>\n",
       "    .dataframe tbody tr th:only-of-type {\n",
       "        vertical-align: middle;\n",
       "    }\n",
       "\n",
       "    .dataframe tbody tr th {\n",
       "        vertical-align: top;\n",
       "    }\n",
       "\n",
       "    .dataframe thead th {\n",
       "        text-align: right;\n",
       "    }\n",
       "</style>\n",
       "<table border=\"1\" class=\"dataframe\">\n",
       "  <thead>\n",
       "    <tr style=\"text-align: right;\">\n",
       "      <th></th>\n",
       "      <th>STATEFP</th>\n",
       "      <th>COUNTYFP</th>\n",
       "      <th>COUNTYNS</th>\n",
       "      <th>AFFGEOID</th>\n",
       "      <th>GEOID</th>\n",
       "      <th>NAME</th>\n",
       "      <th>LSAD</th>\n",
       "      <th>ALAND</th>\n",
       "      <th>AWATER</th>\n",
       "      <th>geometry</th>\n",
       "    </tr>\n",
       "  </thead>\n",
       "  <tbody>\n",
       "    <tr>\n",
       "      <td>270</td>\n",
       "      <td>25</td>\n",
       "      <td>001</td>\n",
       "      <td>00606927</td>\n",
       "      <td>0500000US25001</td>\n",
       "      <td>25001</td>\n",
       "      <td>Barnstable</td>\n",
       "      <td>06</td>\n",
       "      <td>1021048430</td>\n",
       "      <td>2360287543</td>\n",
       "      <td>POLYGON ((-70.68698 41.52949, -70.68327 41.532...</td>\n",
       "    </tr>\n",
       "    <tr>\n",
       "      <td>271</td>\n",
       "      <td>25</td>\n",
       "      <td>013</td>\n",
       "      <td>00606933</td>\n",
       "      <td>0500000US25013</td>\n",
       "      <td>25013</td>\n",
       "      <td>Hampden</td>\n",
       "      <td>06</td>\n",
       "      <td>1597996708</td>\n",
       "      <td>44417070</td>\n",
       "      <td>POLYGON ((-73.07484 42.10615, -73.07305 42.106...</td>\n",
       "    </tr>\n",
       "    <tr>\n",
       "      <td>272</td>\n",
       "      <td>25</td>\n",
       "      <td>025</td>\n",
       "      <td>00606939</td>\n",
       "      <td>0500000US25025</td>\n",
       "      <td>25025</td>\n",
       "      <td>Suffolk</td>\n",
       "      <td>06</td>\n",
       "      <td>150855103</td>\n",
       "      <td>160514584</td>\n",
       "      <td>MULTIPOLYGON (((-70.93091 42.32160, -70.93025 ...</td>\n",
       "    </tr>\n",
       "    <tr>\n",
       "      <td>342</td>\n",
       "      <td>25</td>\n",
       "      <td>007</td>\n",
       "      <td>00606930</td>\n",
       "      <td>0500000US25007</td>\n",
       "      <td>25007</td>\n",
       "      <td>Dukes</td>\n",
       "      <td>06</td>\n",
       "      <td>267300554</td>\n",
       "      <td>1004283994</td>\n",
       "      <td>MULTIPOLYGON (((-70.80710 41.45858, -70.80258 ...</td>\n",
       "    </tr>\n",
       "    <tr>\n",
       "      <td>343</td>\n",
       "      <td>25</td>\n",
       "      <td>017</td>\n",
       "      <td>00606935</td>\n",
       "      <td>0500000US25017</td>\n",
       "      <td>25017</td>\n",
       "      <td>Middlesex</td>\n",
       "      <td>06</td>\n",
       "      <td>2118197013</td>\n",
       "      <td>75365459</td>\n",
       "      <td>POLYGON ((-71.89877 42.71142, -71.82380 42.709...</td>\n",
       "    </tr>\n",
       "    <tr>\n",
       "      <td>958</td>\n",
       "      <td>25</td>\n",
       "      <td>005</td>\n",
       "      <td>00606929</td>\n",
       "      <td>0500000US25005</td>\n",
       "      <td>25005</td>\n",
       "      <td>Bristol</td>\n",
       "      <td>06</td>\n",
       "      <td>1432536921</td>\n",
       "      <td>357473379</td>\n",
       "      <td>MULTIPOLYGON (((-70.83845 41.59646, -70.83595 ...</td>\n",
       "    </tr>\n",
       "    <tr>\n",
       "      <td>1412</td>\n",
       "      <td>25</td>\n",
       "      <td>009</td>\n",
       "      <td>00606931</td>\n",
       "      <td>0500000US25009</td>\n",
       "      <td>25009</td>\n",
       "      <td>Essex</td>\n",
       "      <td>06</td>\n",
       "      <td>1275502663</td>\n",
       "      <td>870278700</td>\n",
       "      <td>MULTIPOLYGON (((-70.58029 42.63602, -70.57509 ...</td>\n",
       "    </tr>\n",
       "    <tr>\n",
       "      <td>1418</td>\n",
       "      <td>25</td>\n",
       "      <td>003</td>\n",
       "      <td>00606928</td>\n",
       "      <td>0500000US25003</td>\n",
       "      <td>25003</td>\n",
       "      <td>Berkshire</td>\n",
       "      <td>06</td>\n",
       "      <td>2400595902</td>\n",
       "      <td>50712902</td>\n",
       "      <td>POLYGON ((-73.50814 42.08626, -73.49717 42.116...</td>\n",
       "    </tr>\n",
       "    <tr>\n",
       "      <td>1419</td>\n",
       "      <td>25</td>\n",
       "      <td>011</td>\n",
       "      <td>00606932</td>\n",
       "      <td>0500000US25011</td>\n",
       "      <td>25011</td>\n",
       "      <td>Franklin</td>\n",
       "      <td>06</td>\n",
       "      <td>1810978987</td>\n",
       "      <td>65539241</td>\n",
       "      <td>POLYGON ((-73.02301 42.74114, -73.02290 42.741...</td>\n",
       "    </tr>\n",
       "    <tr>\n",
       "      <td>1420</td>\n",
       "      <td>25</td>\n",
       "      <td>021</td>\n",
       "      <td>00606937</td>\n",
       "      <td>0500000US25021</td>\n",
       "      <td>25021</td>\n",
       "      <td>Norfolk</td>\n",
       "      <td>06</td>\n",
       "      <td>1025886743</td>\n",
       "      <td>124979344</td>\n",
       "      <td>MULTIPOLYGON (((-70.84466 42.24227, -70.84115 ...</td>\n",
       "    </tr>\n",
       "    <tr>\n",
       "      <td>1890</td>\n",
       "      <td>25</td>\n",
       "      <td>019</td>\n",
       "      <td>00606936</td>\n",
       "      <td>0500000US25019</td>\n",
       "      <td>25019</td>\n",
       "      <td>Nantucket</td>\n",
       "      <td>06</td>\n",
       "      <td>119489563</td>\n",
       "      <td>666974178</td>\n",
       "      <td>MULTIPOLYGON (((-70.23405 41.28565, -70.22361 ...</td>\n",
       "    </tr>\n",
       "    <tr>\n",
       "      <td>2427</td>\n",
       "      <td>25</td>\n",
       "      <td>023</td>\n",
       "      <td>00606938</td>\n",
       "      <td>0500000US25023</td>\n",
       "      <td>25023</td>\n",
       "      <td>Plymouth</td>\n",
       "      <td>06</td>\n",
       "      <td>1706646158</td>\n",
       "      <td>1124975284</td>\n",
       "      <td>MULTIPOLYGON (((-70.88335 42.34049, -70.88158 ...</td>\n",
       "    </tr>\n",
       "    <tr>\n",
       "      <td>3084</td>\n",
       "      <td>25</td>\n",
       "      <td>015</td>\n",
       "      <td>00606934</td>\n",
       "      <td>0500000US25015</td>\n",
       "      <td>25015</td>\n",
       "      <td>Hampshire</td>\n",
       "      <td>06</td>\n",
       "      <td>1365526541</td>\n",
       "      <td>46674748</td>\n",
       "      <td>POLYGON ((-73.06577 42.38911, -73.01168 42.379...</td>\n",
       "    </tr>\n",
       "    <tr>\n",
       "      <td>3161</td>\n",
       "      <td>25</td>\n",
       "      <td>027</td>\n",
       "      <td>00606940</td>\n",
       "      <td>0500000US25027</td>\n",
       "      <td>25027</td>\n",
       "      <td>Worcester</td>\n",
       "      <td>06</td>\n",
       "      <td>3912564078</td>\n",
       "      <td>177449060</td>\n",
       "      <td>POLYGON ((-72.31363 42.39640, -72.31509 42.398...</td>\n",
       "    </tr>\n",
       "  </tbody>\n",
       "</table>\n",
       "</div>"
      ],
      "text/plain": [
       "     STATEFP COUNTYFP  COUNTYNS        AFFGEOID  GEOID        NAME LSAD  \\\n",
       "270       25      001  00606927  0500000US25001  25001  Barnstable   06   \n",
       "271       25      013  00606933  0500000US25013  25013     Hampden   06   \n",
       "272       25      025  00606939  0500000US25025  25025     Suffolk   06   \n",
       "342       25      007  00606930  0500000US25007  25007       Dukes   06   \n",
       "343       25      017  00606935  0500000US25017  25017   Middlesex   06   \n",
       "958       25      005  00606929  0500000US25005  25005     Bristol   06   \n",
       "1412      25      009  00606931  0500000US25009  25009       Essex   06   \n",
       "1418      25      003  00606928  0500000US25003  25003   Berkshire   06   \n",
       "1419      25      011  00606932  0500000US25011  25011    Franklin   06   \n",
       "1420      25      021  00606937  0500000US25021  25021     Norfolk   06   \n",
       "1890      25      019  00606936  0500000US25019  25019   Nantucket   06   \n",
       "2427      25      023  00606938  0500000US25023  25023    Plymouth   06   \n",
       "3084      25      015  00606934  0500000US25015  25015   Hampshire   06   \n",
       "3161      25      027  00606940  0500000US25027  25027   Worcester   06   \n",
       "\n",
       "           ALAND      AWATER  \\\n",
       "270   1021048430  2360287543   \n",
       "271   1597996708    44417070   \n",
       "272    150855103   160514584   \n",
       "342    267300554  1004283994   \n",
       "343   2118197013    75365459   \n",
       "958   1432536921   357473379   \n",
       "1412  1275502663   870278700   \n",
       "1418  2400595902    50712902   \n",
       "1419  1810978987    65539241   \n",
       "1420  1025886743   124979344   \n",
       "1890   119489563   666974178   \n",
       "2427  1706646158  1124975284   \n",
       "3084  1365526541    46674748   \n",
       "3161  3912564078   177449060   \n",
       "\n",
       "                                               geometry  \n",
       "270   POLYGON ((-70.68698 41.52949, -70.68327 41.532...  \n",
       "271   POLYGON ((-73.07484 42.10615, -73.07305 42.106...  \n",
       "272   MULTIPOLYGON (((-70.93091 42.32160, -70.93025 ...  \n",
       "342   MULTIPOLYGON (((-70.80710 41.45858, -70.80258 ...  \n",
       "343   POLYGON ((-71.89877 42.71142, -71.82380 42.709...  \n",
       "958   MULTIPOLYGON (((-70.83845 41.59646, -70.83595 ...  \n",
       "1412  MULTIPOLYGON (((-70.58029 42.63602, -70.57509 ...  \n",
       "1418  POLYGON ((-73.50814 42.08626, -73.49717 42.116...  \n",
       "1419  POLYGON ((-73.02301 42.74114, -73.02290 42.741...  \n",
       "1420  MULTIPOLYGON (((-70.84466 42.24227, -70.84115 ...  \n",
       "1890  MULTIPOLYGON (((-70.23405 41.28565, -70.22361 ...  \n",
       "2427  MULTIPOLYGON (((-70.88335 42.34049, -70.88158 ...  \n",
       "3084  POLYGON ((-73.06577 42.38911, -73.01168 42.379...  \n",
       "3161  POLYGON ((-72.31363 42.39640, -72.31509 42.398...  "
      ]
     },
     "execution_count": 11,
     "metadata": {},
     "output_type": "execute_result"
    }
   ],
   "source": [
    "smallcounties[smallcounties.STATEFP=='25'].head(20)"
   ]
  },
  {
   "cell_type": "code",
   "execution_count": 12,
   "metadata": {},
   "outputs": [],
   "source": [
    "state_dict={ '25':'Massachusetts', '09':'Connecticut' , '23':'Maine', '33':'New Hampshire', '50':'Vermont' ,'44':'Rhode Island'  }"
   ]
  },
  {
   "cell_type": "code",
   "execution_count": 13,
   "metadata": {},
   "outputs": [
    {
     "data": {
      "text/plain": [
       "<matplotlib.axes._subplots.AxesSubplot at 0x7f259d8fac90>"
      ]
     },
     "execution_count": 13,
     "metadata": {},
     "output_type": "execute_result"
    },
    {
     "data": {
      "image/png": "[encoded data removed]",
      "text/plain": [
       "<Figure size 432x288 with 1 Axes>"
      ]
     },
     "metadata": {
      "needs_background": "light"
     },
     "output_type": "display_data"
    }
   ],
   "source": [
    "smallcounties[smallcounties['STATEFP'].isin(state_dict.keys())].plot()"
   ]
  },
  {
   "cell_type": "code",
   "execution_count": 14,
   "metadata": {},
   "outputs": [],
   "source": [
    "necounties=smallcounties[smallcounties['STATEFP'].isin(state_dict.keys())].copy()"
   ]
  },
  {
   "cell_type": "code",
   "execution_count": 15,
   "metadata": {},
   "outputs": [
    {
     "name": "stdout",
     "output_type": "stream",
     "text": [
      "<class 'geopandas.geodataframe.GeoDataFrame'>\n",
      "Int64Index: 67 entries, 56 to 3161\n",
      "Data columns (total 10 columns):\n",
      "STATEFP     67 non-null object\n",
      "COUNTYFP    67 non-null object\n",
      "COUNTYNS    67 non-null object\n",
      "AFFGEOID    67 non-null object\n",
      "GEOID       67 non-null object\n",
      "NAME        67 non-null object\n",
      "LSAD        67 non-null object\n",
      "ALAND       67 non-null int64\n",
      "AWATER      67 non-null int64\n",
      "geometry    67 non-null geometry\n",
      "dtypes: geometry(1), int64(2), object(7)\n",
      "memory usage: 5.8+ KB\n"
     ]
    }
   ],
   "source": [
    "necounties.info()"
   ]
  },
  {
   "cell_type": "code",
   "execution_count": 16,
   "metadata": {},
   "outputs": [],
   "source": [
    "for i in pivotByYear.keys():\n",
    "    pivotByYear[i].index=pivotByYear[i].index.str.title()"
   ]
  },
  {
   "cell_type": "code",
   "execution_count": 17,
   "metadata": {},
   "outputs": [
    {
     "data": {
      "text/html": [
       "<div>\n",
       "<style scoped>\n",
       "    .dataframe tbody tr th:only-of-type {\n",
       "        vertical-align: middle;\n",
       "    }\n",
       "\n",
       "    .dataframe tbody tr th {\n",
       "        vertical-align: top;\n",
       "    }\n",
       "\n",
       "    .dataframe thead th {\n",
       "        text-align: right;\n",
       "    }\n",
       "</style>\n",
       "<table border=\"1\" class=\"dataframe\">\n",
       "  <thead>\n",
       "    <tr style=\"text-align: right;\">\n",
       "      <th>TRANSACTION_DATE</th>\n",
       "      <th>2006</th>\n",
       "    </tr>\n",
       "    <tr>\n",
       "      <th>BUYER_COUNTY</th>\n",
       "      <th></th>\n",
       "    </tr>\n",
       "  </thead>\n",
       "  <tbody>\n",
       "    <tr>\n",
       "      <td>Addison</td>\n",
       "      <td>767400.0</td>\n",
       "    </tr>\n",
       "    <tr>\n",
       "      <td>Aguada</td>\n",
       "      <td>49200.0</td>\n",
       "    </tr>\n",
       "    <tr>\n",
       "      <td>Aguadilla</td>\n",
       "      <td>192200.0</td>\n",
       "    </tr>\n",
       "    <tr>\n",
       "      <td>Aguas Buenas</td>\n",
       "      <td>28500.0</td>\n",
       "    </tr>\n",
       "    <tr>\n",
       "      <td>Alachua</td>\n",
       "      <td>7333056.0</td>\n",
       "    </tr>\n",
       "  </tbody>\n",
       "</table>\n",
       "</div>"
      ],
      "text/plain": [
       "TRANSACTION_DATE       2006\n",
       "BUYER_COUNTY               \n",
       "Addison            767400.0\n",
       "Aguada              49200.0\n",
       "Aguadilla          192200.0\n",
       "Aguas Buenas        28500.0\n",
       "Alachua           7333056.0"
      ]
     },
     "execution_count": 17,
     "metadata": {},
     "output_type": "execute_result"
    }
   ],
   "source": [
    "pivotByYear['2006'].head()"
   ]
  },
  {
   "cell_type": "code",
   "execution_count": 18,
   "metadata": {},
   "outputs": [],
   "source": [
    "temp=necounties.merge(pivotByYear['2006'],left_on='NAME',right_on='BUYER_COUNTY')"
   ]
  },
  {
   "cell_type": "code",
   "execution_count": 19,
   "metadata": {},
   "outputs": [],
   "source": [
    "geoOPyear=dict()\n",
    "for i in pivotByYear.keys():\n",
    "    geoOPyear[i]=necounties.merge(pivotByYear[i],left_on='NAME',right_on='BUYER_COUNTY')\n",
    "    geoOPyear[i].drop(columns=['ALAND','AWATER'])"
   ]
  },
  {
   "cell_type": "code",
   "execution_count": 20,
   "metadata": {},
   "outputs": [
    {
     "data": {
      "text/html": [
       "<div>\n",
       "<style scoped>\n",
       "    .dataframe tbody tr th:only-of-type {\n",
       "        vertical-align: middle;\n",
       "    }\n",
       "\n",
       "    .dataframe tbody tr th {\n",
       "        vertical-align: top;\n",
       "    }\n",
       "\n",
       "    .dataframe thead th {\n",
       "        text-align: right;\n",
       "    }\n",
       "</style>\n",
       "<table border=\"1\" class=\"dataframe\">\n",
       "  <thead>\n",
       "    <tr style=\"text-align: right;\">\n",
       "      <th></th>\n",
       "      <th>STATEFP</th>\n",
       "      <th>COUNTYFP</th>\n",
       "      <th>COUNTYNS</th>\n",
       "      <th>AFFGEOID</th>\n",
       "      <th>GEOID</th>\n",
       "      <th>NAME</th>\n",
       "      <th>LSAD</th>\n",
       "      <th>ALAND</th>\n",
       "      <th>AWATER</th>\n",
       "      <th>geometry</th>\n",
       "      <th>2006</th>\n",
       "    </tr>\n",
       "  </thead>\n",
       "  <tbody>\n",
       "    <tr>\n",
       "      <td>0</td>\n",
       "      <td>09</td>\n",
       "      <td>009</td>\n",
       "      <td>00212798</td>\n",
       "      <td>0500000US09009</td>\n",
       "      <td>09009</td>\n",
       "      <td>New Haven</td>\n",
       "      <td>06</td>\n",
       "      <td>1565688367</td>\n",
       "      <td>667081242</td>\n",
       "      <td>MULTIPOLYGON (((-72.76143 41.24233, -72.75973 ...</td>\n",
       "      <td>24486606.0</td>\n",
       "    </tr>\n",
       "    <tr>\n",
       "      <td>1</td>\n",
       "      <td>23</td>\n",
       "      <td>013</td>\n",
       "      <td>00581292</td>\n",
       "      <td>0500000US23013</td>\n",
       "      <td>23013</td>\n",
       "      <td>Knox</td>\n",
       "      <td>06</td>\n",
       "      <td>945684684</td>\n",
       "      <td>2017116243</td>\n",
       "      <td>MULTIPOLYGON (((-68.55926 44.04502, -68.55504 ...</td>\n",
       "      <td>34936280.0</td>\n",
       "    </tr>\n",
       "    <tr>\n",
       "      <td>2</td>\n",
       "      <td>23</td>\n",
       "      <td>015</td>\n",
       "      <td>00581293</td>\n",
       "      <td>0500000US23015</td>\n",
       "      <td>23015</td>\n",
       "      <td>Lincoln</td>\n",
       "      <td>06</td>\n",
       "      <td>1180688991</td>\n",
       "      <td>631299424</td>\n",
       "      <td>MULTIPOLYGON (((-69.32357 43.75899, -69.32114 ...</td>\n",
       "      <td>19294160.0</td>\n",
       "    </tr>\n",
       "    <tr>\n",
       "      <td>3</td>\n",
       "      <td>25</td>\n",
       "      <td>001</td>\n",
       "      <td>00606927</td>\n",
       "      <td>0500000US25001</td>\n",
       "      <td>25001</td>\n",
       "      <td>Barnstable</td>\n",
       "      <td>06</td>\n",
       "      <td>1021048430</td>\n",
       "      <td>2360287543</td>\n",
       "      <td>POLYGON ((-70.68698 41.52949, -70.68327 41.532...</td>\n",
       "      <td>6526795.0</td>\n",
       "    </tr>\n",
       "    <tr>\n",
       "      <td>4</td>\n",
       "      <td>25</td>\n",
       "      <td>013</td>\n",
       "      <td>00606933</td>\n",
       "      <td>0500000US25013</td>\n",
       "      <td>25013</td>\n",
       "      <td>Hampden</td>\n",
       "      <td>06</td>\n",
       "      <td>1597996708</td>\n",
       "      <td>44417070</td>\n",
       "      <td>POLYGON ((-73.07484 42.10615, -73.07305 42.106...</td>\n",
       "      <td>13992080.0</td>\n",
       "    </tr>\n",
       "    <tr>\n",
       "      <td>...</td>\n",
       "      <td>...</td>\n",
       "      <td>...</td>\n",
       "      <td>...</td>\n",
       "      <td>...</td>\n",
       "      <td>...</td>\n",
       "      <td>...</td>\n",
       "      <td>...</td>\n",
       "      <td>...</td>\n",
       "      <td>...</td>\n",
       "      <td>...</td>\n",
       "      <td>...</td>\n",
       "    </tr>\n",
       "    <tr>\n",
       "      <td>62</td>\n",
       "      <td>50</td>\n",
       "      <td>005</td>\n",
       "      <td>01461759</td>\n",
       "      <td>0500000US50005</td>\n",
       "      <td>50005</td>\n",
       "      <td>Caledonia</td>\n",
       "      <td>06</td>\n",
       "      <td>1680951719</td>\n",
       "      <td>22386387</td>\n",
       "      <td>POLYGON ((-72.42985 44.51205, -72.41956 44.525...</td>\n",
       "      <td>793200.0</td>\n",
       "    </tr>\n",
       "    <tr>\n",
       "      <td>63</td>\n",
       "      <td>23</td>\n",
       "      <td>001</td>\n",
       "      <td>00581286</td>\n",
       "      <td>0500000US23001</td>\n",
       "      <td>23001</td>\n",
       "      <td>Androscoggin</td>\n",
       "      <td>06</td>\n",
       "      <td>1211956216</td>\n",
       "      <td>75580882</td>\n",
       "      <td>POLYGON ((-70.48529 44.06040, -70.45974 44.086...</td>\n",
       "      <td>3441000.0</td>\n",
       "    </tr>\n",
       "    <tr>\n",
       "      <td>64</td>\n",
       "      <td>33</td>\n",
       "      <td>009</td>\n",
       "      <td>00873178</td>\n",
       "      <td>0500000US33009</td>\n",
       "      <td>33009</td>\n",
       "      <td>Grafton</td>\n",
       "      <td>06</td>\n",
       "      <td>4425249656</td>\n",
       "      <td>106464220</td>\n",
       "      <td>POLYGON ((-72.33440 43.61925, -72.33236 43.625...</td>\n",
       "      <td>2615660.0</td>\n",
       "    </tr>\n",
       "    <tr>\n",
       "      <td>65</td>\n",
       "      <td>23</td>\n",
       "      <td>017</td>\n",
       "      <td>00581294</td>\n",
       "      <td>0500000US23017</td>\n",
       "      <td>23017</td>\n",
       "      <td>Oxford</td>\n",
       "      <td>06</td>\n",
       "      <td>5379210748</td>\n",
       "      <td>255895400</td>\n",
       "      <td>POLYGON ((-71.08000 45.30699, -71.07841 45.306...</td>\n",
       "      <td>1660050.0</td>\n",
       "    </tr>\n",
       "    <tr>\n",
       "      <td>66</td>\n",
       "      <td>25</td>\n",
       "      <td>027</td>\n",
       "      <td>00606940</td>\n",
       "      <td>0500000US25027</td>\n",
       "      <td>25027</td>\n",
       "      <td>Worcester</td>\n",
       "      <td>06</td>\n",
       "      <td>3912564078</td>\n",
       "      <td>177449060</td>\n",
       "      <td>POLYGON ((-72.31363 42.39640, -72.31509 42.398...</td>\n",
       "      <td>24125904.0</td>\n",
       "    </tr>\n",
       "  </tbody>\n",
       "</table>\n",
       "<p>67 rows × 11 columns</p>\n",
       "</div>"
      ],
      "text/plain": [
       "   STATEFP COUNTYFP  COUNTYNS        AFFGEOID  GEOID          NAME LSAD  \\\n",
       "0       09      009  00212798  0500000US09009  09009     New Haven   06   \n",
       "1       23      013  00581292  0500000US23013  23013          Knox   06   \n",
       "2       23      015  00581293  0500000US23015  23015       Lincoln   06   \n",
       "3       25      001  00606927  0500000US25001  25001    Barnstable   06   \n",
       "4       25      013  00606933  0500000US25013  25013       Hampden   06   \n",
       "..     ...      ...       ...             ...    ...           ...  ...   \n",
       "62      50      005  01461759  0500000US50005  50005     Caledonia   06   \n",
       "63      23      001  00581286  0500000US23001  23001  Androscoggin   06   \n",
       "64      33      009  00873178  0500000US33009  33009       Grafton   06   \n",
       "65      23      017  00581294  0500000US23017  23017        Oxford   06   \n",
       "66      25      027  00606940  0500000US25027  25027     Worcester   06   \n",
       "\n",
       "         ALAND      AWATER                                           geometry  \\\n",
       "0   1565688367   667081242  MULTIPOLYGON (((-72.76143 41.24233, -72.75973 ...   \n",
       "1    945684684  2017116243  MULTIPOLYGON (((-68.55926 44.04502, -68.55504 ...   \n",
       "2   1180688991   631299424  MULTIPOLYGON (((-69.32357 43.75899, -69.32114 ...   \n",
       "3   1021048430  2360287543  POLYGON ((-70.68698 41.52949, -70.68327 41.532...   \n",
       "4   1597996708    44417070  POLYGON ((-73.07484 42.10615, -73.07305 42.106...   \n",
       "..         ...         ...                                                ...   \n",
       "62  1680951719    22386387  POLYGON ((-72.42985 44.51205, -72.41956 44.525...   \n",
       "63  1211956216    75580882  POLYGON ((-70.48529 44.06040, -70.45974 44.086...   \n",
       "64  4425249656   106464220  POLYGON ((-72.33440 43.61925, -72.33236 43.625...   \n",
       "65  5379210748   255895400  POLYGON ((-71.08000 45.30699, -71.07841 45.306...   \n",
       "66  3912564078   177449060  POLYGON ((-72.31363 42.39640, -72.31509 42.398...   \n",
       "\n",
       "          2006  \n",
       "0   24486606.0  \n",
       "1   34936280.0  \n",
       "2   19294160.0  \n",
       "3    6526795.0  \n",
       "4   13992080.0  \n",
       "..         ...  \n",
       "62    793200.0  \n",
       "63   3441000.0  \n",
       "64   2615660.0  \n",
       "65   1660050.0  \n",
       "66  24125904.0  \n",
       "\n",
       "[67 rows x 11 columns]"
      ]
     },
     "execution_count": 20,
     "metadata": {},
     "output_type": "execute_result"
    }
   ],
   "source": [
    "geoOPyear['2006']"
   ]
  },
  {
   "cell_type": "code",
   "execution_count": 21,
   "metadata": {},
   "outputs": [
    {
     "data": {
      "text/plain": [
       "Index([ 'STATEFP', 'COUNTYFP', 'COUNTYNS', 'AFFGEOID',    'GEOID',     'NAME',\n",
       "           'LSAD',    'ALAND',   'AWATER', 'geometry',       2006],\n",
       "      dtype='object')"
      ]
     },
     "execution_count": 21,
     "metadata": {},
     "output_type": "execute_result"
    }
   ],
   "source": [
    "geoOPyear['2006'].columns"
   ]
  },
  {
   "cell_type": "code",
   "execution_count": 22,
   "metadata": {},
   "outputs": [
    {
     "data": {
      "text/plain": [
       "<matplotlib.axes._subplots.AxesSubplot at 0x7f259d4b1490>"
      ]
     },
     "execution_count": 22,
     "metadata": {},
     "output_type": "execute_result"
    },
    {
     "data": {
      "image/png": "[encoded data removed]",
      "text/plain": [
       "<Figure size 1296x1152 with 2 Axes>"
      ]
     },
     "metadata": {
      "needs_background": "light"
     },
     "output_type": "display_data"
    }
   ],
   "source": [
    "fig, ax = plt.subplots(figsize=(18,16));\n",
    "geoOPyear['2006'].plot(column=2006,legend=True, ax=ax)"
   ]
  },
  {
   "cell_type": "code",
   "execution_count": 23,
   "metadata": {},
   "outputs": [],
   "source": [
    "for i in geoOPyear.keys():\n",
    "    geoOPyear[i]['inMillions']=geoOPyear[i][int(i)].divide(10**6)"
   ]
  },
  {
   "cell_type": "code",
   "execution_count": 24,
   "metadata": {},
   "outputs": [],
   "source": [
    "yearmax=[  geoOPyear[i]['inMillions'].max()  for i in geoOPyear.keys() ]\n",
    "vmax=max(yearmax)\n",
    "\n",
    "yearmin=[  geoOPyear[i]['inMillions'].min()  for i in geoOPyear.keys() ]\n",
    "vmin=max(yearmin)"
   ]
  },
  {
   "cell_type": "code",
   "execution_count": 25,
   "metadata": {},
   "outputs": [
    {
     "name": "stdout",
     "output_type": "stream",
     "text": [
      "0.07813 167.301936\n"
     ]
    }
   ],
   "source": [
    "print(vmin,vmax)"
   ]
  },
  {
   "cell_type": "code",
   "execution_count": 26,
   "metadata": {},
   "outputs": [
    {
     "ename": "AttributeError",
     "evalue": "module 'geopandas' has no attribute 'plot'",
     "output_type": "error",
     "traceback": [
      "\u001b[0;31m---------------------------------------------------------------------------\u001b[0m",
      "\u001b[0;31mAttributeError\u001b[0m                            Traceback (most recent call last)",
      "\u001b[0;32m<ipython-input-26-baf7868b08f2>\u001b[0m in \u001b[0;36m<module>\u001b[0;34m\u001b[0m\n\u001b[0;32m----> 1\u001b[0;31m \u001b[0mmethod_list\u001b[0m \u001b[0;34m=\u001b[0m \u001b[0;34m[\u001b[0m\u001b[0mfunc\u001b[0m \u001b[0;32mfor\u001b[0m \u001b[0mfunc\u001b[0m \u001b[0;32min\u001b[0m \u001b[0mdir\u001b[0m\u001b[0;34m(\u001b[0m\u001b[0mgpd\u001b[0m\u001b[0;34m.\u001b[0m\u001b[0mplot\u001b[0m\u001b[0;34m)\u001b[0m \u001b[0;32mif\u001b[0m \u001b[0mcallable\u001b[0m\u001b[0;34m(\u001b[0m\u001b[0mgetattr\u001b[0m\u001b[0;34m(\u001b[0m\u001b[0mgpd\u001b[0m\u001b[0;34m.\u001b[0m\u001b[0mplot\u001b[0m\u001b[0;34m,\u001b[0m \u001b[0mfunc\u001b[0m\u001b[0;34m)\u001b[0m\u001b[0;34m)\u001b[0m\u001b[0;34m]\u001b[0m\u001b[0;34m\u001b[0m\u001b[0;34m\u001b[0m\u001b[0m\n\u001b[0m\u001b[1;32m      2\u001b[0m \u001b[0mprint\u001b[0m\u001b[0;34m(\u001b[0m\u001b[0mmethod_list\u001b[0m\u001b[0;34m)\u001b[0m\u001b[0;34m\u001b[0m\u001b[0;34m\u001b[0m\u001b[0m\n",
      "\u001b[0;31mAttributeError\u001b[0m: module 'geopandas' has no attribute 'plot'"
     ]
    }
   ],
   "source": [
    "#method_list = [func for func in dir(gpd.plot) if callable(getattr(gpd.plot, func))]\n",
    "#print(method_list)"
   ]
  },
  {
   "cell_type": "code",
   "execution_count": 45,
   "metadata": {
    "collapsed": true,
    "jupyter": {
     "outputs_hidden": true
    }
   },
   "outputs": [
    {
     "name": "stdout",
     "output_type": "stream",
     "text": [
      "Plot a GeoDataFrame.\n",
      "\n",
      "Generate a plot of a GeoDataFrame with matplotlib.  If a\n",
      "column is specified, the plot coloring will be based on values\n",
      "in that column.\n",
      "\n",
      "Parameters\n",
      "----------\n",
      "df : GeoDataFrame\n",
      "    The GeoDataFrame to be plotted.  Currently Polygon,\n",
      "    MultiPolygon, LineString, MultiLineString and Point\n",
      "    geometries can be plotted.\n",
      "column : str, np.array, pd.Series (default None)\n",
      "    The name of the dataframe column, np.array, or pd.Series to be plotted.\n",
      "    If np.array or pd.Series are used then it must have same length as\n",
      "    dataframe. Values are used to color the plot. Ignored if `color` is\n",
      "    also set.\n",
      "cmap : str (default None)\n",
      "    The name of a colormap recognized by matplotlib.\n",
      "color : str (default None)\n",
      "    If specified, all objects will be colored uniformly.\n",
      "ax : matplotlib.pyplot.Artist (default None)\n",
      "    axes on which to draw the plot\n",
      "cax : matplotlib.pyplot Artist (default None)\n",
      "    axes on which to draw the legend in case of color map.\n",
      "categorical : bool (default False)\n",
      "    If False, cmap will reflect numerical values of the\n",
      "    column being plotted.  For non-numerical columns, this\n",
      "    will be set to True.\n",
      "legend : bool (default False)\n",
      "    Plot a legend. Ignored if no `column` is given, or if `color` is given.\n",
      "scheme : str (default None)\n",
      "    Name of a choropleth classification scheme (requires mapclassify).\n",
      "    A mapclassify.MapClassifier object will be used\n",
      "    under the hood. Supported are all schemes provided by mapclassify (e.g.\n",
      "    'BoxPlot', 'EqualInterval', 'FisherJenks', 'FisherJenksSampled',\n",
      "    'HeadTailBreaks', 'JenksCaspall', 'JenksCaspallForced',\n",
      "    'JenksCaspallSampled', 'MaxP', 'MaximumBreaks',\n",
      "    'NaturalBreaks', 'Quantiles', 'Percentiles', 'StdMean',\n",
      "    'UserDefined'). Arguments can be passed in classification_kwds.\n",
      "k : int (default 5)\n",
      "    Number of classes (ignored if scheme is None)\n",
      "vmin : None or float (default None)\n",
      "    Minimum value of cmap. If None, the minimum data value\n",
      "    in the column to be plotted is used.\n",
      "vmax : None or float (default None)\n",
      "    Maximum value of cmap. If None, the maximum data value\n",
      "    in the column to be plotted is used.\n",
      "markersize : str or float or sequence (default None)\n",
      "    Only applies to point geometries within a frame.\n",
      "    If a str, will use the values in the column of the frame specified\n",
      "    by markersize to set the size of markers. Otherwise can be a value\n",
      "    to apply to all points, or a sequence of the same length as the\n",
      "    number of points.\n",
      "figsize : tuple of integers (default None)\n",
      "    Size of the resulting matplotlib.figure.Figure. If the argument\n",
      "    axes is given explicitly, figsize is ignored.\n",
      "legend_kwds : dict (default None)\n",
      "    Keyword arguments to pass to matplotlib.pyplot.legend() or\n",
      "    matplotlib.pyplot.colorbar().\n",
      "classification_kwds : dict (default None)\n",
      "    Keyword arguments to pass to mapclassify\n",
      "\n",
      "**style_kwds : dict\n",
      "    Color options to be passed on to the actual plot function, such\n",
      "    as ``edgecolor``, ``facecolor``, ``linewidth``, ``markersize``,\n",
      "    ``alpha``.\n",
      "\n",
      "Returns\n",
      "-------\n",
      "ax : matplotlib axes instance\n"
     ]
    }
   ],
   "source": [
    "import inspect\n",
    "print(inspect.getdoc(geoOPyear['2006'].plot))"
   ]
  },
  {
   "cell_type": "code",
   "execution_count": 53,
   "metadata": {},
   "outputs": [
    {
     "data": {
      "text/plain": [
       "<Figure size 1296x1152 with 0 Axes>"
      ]
     },
     "metadata": {},
     "output_type": "display_data"
    },
    {
     "data": {
      "text/plain": [
       "<Figure size 1296x1152 with 0 Axes>"
      ]
     },
     "metadata": {},
     "output_type": "display_data"
    },
    {
     "data": {
      "text/plain": [
       "<Figure size 1296x1152 with 0 Axes>"
      ]
     },
     "metadata": {},
     "output_type": "display_data"
    },
    {
     "data": {
      "text/plain": [
       "<Figure size 1296x1152 with 0 Axes>"
      ]
     },
     "metadata": {},
     "output_type": "display_data"
    },
    {
     "data": {
      "text/plain": [
       "<Figure size 1296x1152 with 0 Axes>"
      ]
     },
     "metadata": {},
     "output_type": "display_data"
    },
    {
     "data": {
      "text/plain": [
       "<Figure size 1296x1152 with 0 Axes>"
      ]
     },
     "metadata": {},
     "output_type": "display_data"
    },
    {
     "data": {
      "text/plain": [
       "<Figure size 1296x1152 with 0 Axes>"
      ]
     },
     "metadata": {},
     "output_type": "display_data"
    }
   ],
   "source": [
    "from mpl_toolkits.axes_grid1 import make_axes_locatable\n",
    "\n",
    "for i in geoOPyear.keys():\n",
    "    fig, ax = plt.subplots(figsize=(18,16));\n",
    "    #sm = plt.cm.ScalarMappable(cmap='Blues', norm=plt.Normalize(vmin=vmin, vmax=vmax))\n",
    "    divider = make_axes_locatable(ax)\n",
    "    cax = divider.append_axes(\"right\", size=\"5%\", pad=0.1)\n",
    "    geoOPyear[i].plot(column='inMillions',legend=True, ax=ax,cax=cax, cmap='Blues', vmin=vmin, vmax=vmax , linewidth=0.8, edgecolor='0.1' )\n",
    "    ax.axis('off')\n",
    "    ax.set_title('Total dosage of opoids prescribed in the county (in Millions)', fontsize=24)\n",
    "    reprpt=geoOPyear[i].geometry.representative_point()\n",
    "    for x,y,label in zip(reprpt.geometry.x,reprpt.geometry.y,geoOPyear[i]['inMillions']):\n",
    "        #ax.text(x,y,label,fontsize=24)\n",
    "        ax.text(x,y,f'{label:.1f}',fontsize=12,horizontalalignment='center',verticalalignment='center' )\n",
    "    ax.text( -69.0 ,42, str('Year:'+str(i)) , fontsize=36)\n",
    "    \n",
    "    cax.tick_params(labelsize=12) \n",
    "    ax.margins(x=0)\n",
    "    ax.margins(y=0)\n",
    "    filetitle=str( str(i) + '_presc.svg' )\n",
    "    fig.savefig(filetitle,dpi=300,format='svg',bbox_inches='tight')\n",
    "    plt.clf()"
   ]
  },
  {
   "cell_type": "code",
   "execution_count": null,
   "metadata": {},
   "outputs": [],
   "source": []
  }
 ],
 "metadata": {
  "kernelspec": {
   "display_name": "Python 3",
   "language": "python",
   "name": "python3"
  },
  "language_info": {
   "codemirror_mode": {
    "name": "ipython",
    "version": 3
   },
   "file_extension": ".py",
   "mimetype": "text/x-python",
   "name": "python",
   "nbconvert_exporter": "python",
   "pygments_lexer": "ipython3",
   "version": "3.6.7"
  }
 },
 "nbformat": 4,
 "nbformat_minor": 4
}
