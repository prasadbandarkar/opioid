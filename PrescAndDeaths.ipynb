{
 "cells": [
  {
   "cell_type": "code",
   "execution_count": 3,
   "metadata": {},
   "outputs": [],
   "source": [
    "import pandas as pd\n",
    "import numpy as np\n",
    "import matplotlib.pyplot as plt\n",
    "\n",
    "cols=['TRANSACTION_DATE','DOSAGE_UNIT','BUYER_COUNTY']\n",
    "coldtypes={ 'DOSAGE_UNIT':np.float32 , 'BUYER_COUNTY':'category' }\n",
    "\n",
    "change2year=lambda x : int(x[-4:])\n",
    "#nationdfall=pd.read_csv('../prescription/arcos_all_washpost.tsv' , sep='\\t', \n",
    "#                   usecols= cols,  dtype=coldtypes ,  engine='c',converters={ 'TRANSACTION_DATE':change2year } )\n",
    "\n",
    "#nationdfall['TRANSACTION_DATE']=nationdfall['TRANSACTION_DATE'].astype('category')\n",
    "\n",
    "#import pickle\n",
    "#pickle.dump(nationdfall, open( \"nation.pkl\", \"wb\" ) )\\\n",
    "\n",
    "import pickle\n",
    "with open('nation.pkl','rb') as pkldfile :\n",
    "    ndf=pickle.load(pkldfile)\n",
    "\n",
    "pivot4years={}\n",
    "\n",
    "for cat in ndf.TRANSACTION_DATE.cat.categories:\n",
    "    temp=ndf[ndf.TRANSACTION_DATE == cat ]\n",
    "    pivot4years[str(cat)]=temp.pivot_table(values='DOSAGE_UNIT',aggfunc=np.sum,index=temp.BUYER_COUNTY,columns=temp.TRANSACTION_DATE ,fill_value=0)\n",
    "\n",
    "\n",
    "import pickle\n",
    "pickle.dump(pivot4years, open( \"pivot4years.pkl\", \"wb\" ) )\n",
    "\n",
    "deaths_dtypes={'Year':int,'County':str,'Notes':str,'County Code':int,'Year Code':int , 'Deaths':pd.Int32Dtype(),'Population':int,'Crude Rate':float }\n",
    "deaths=pd.read_csv('MCDNewEngland20062012.tsv',sep='\\t',index_col=['County','Year'],dtype=deaths_dtypes, na_values=['Suppressed','Unreliable'])\n",
    "\n",
    "with open('pivot4years.pkl','rb') as pkldfile :\n",
    "    pivotByYear=pickle.load(pkldfile)\n",
    "\n",
    "import geopandas as gpd\n",
    "smallcounties = gpd.read_file('cb_2018_us_county_500k/cb_2018_us_county_500k.shp')\n",
    "\n",
    "state_dict={ '25':'Massachusetts', '09':'Connecticut' , '23':'Maine', '33':'New Hampshire', '50':'Vermont' ,'44':'Rhode Island'  }\n",
    "necounties=smallcounties[smallcounties['STATEFP'].isin(state_dict.keys())].copy()\n"
   ]
  },
  {
   "cell_type": "code",
   "execution_count": 6,
   "metadata": {},
   "outputs": [],
   "source": [
    "geoOPyear=dict()\n",
    "for i in pivotByYear.keys():\n",
    "    geoOPyear[i]=necounties.merge(pivotByYear[i],left_on='NAME',right_on='BUYER_COUNTY')\n",
    "    geoOPyear[i].drop(columns=['ALAND','AWATER'])\n",
    "\n",
    "deathspivot=deaths['Deaths'].unstack()\n",
    "deathspivot['CName']=deathspivot.index.str.split().str.get(0)\n",
    "geoDeath=dict()\n",
    "for i in geoOPyear.keys():\n",
    "    temp=deathspivot[[int(i),'CName']]\n",
    "    geoDeath[i]=geoOPyear[i].merge(temp,left_on='NAME',right_on='CName')\n",
    "    geoDeath[i].drop(columns=['ALAND','AWATER'])\n",
    "    \n"
   ]
  },
  {
   "cell_type": "code",
   "execution_count": 12,
   "metadata": {},
   "outputs": [
    {
     "data": {
      "text/plain": [
       "dict_keys(['2006', '2007', '2008', '2009', '2010', '2011', '2012'])"
      ]
     },
     "execution_count": 12,
     "metadata": {},
     "output_type": "execute_result"
    }
   ],
   "source": [
    "geoDeath.keys()"
   ]
  },
  {
   "cell_type": "code",
   "execution_count": 14,
   "metadata": {},
   "outputs": [
    {
     "data": {
      "text/html": [
       "<div>\n",
       "<style scoped>\n",
       "    .dataframe tbody tr th:only-of-type {\n",
       "        vertical-align: middle;\n",
       "    }\n",
       "\n",
       "    .dataframe tbody tr th {\n",
       "        vertical-align: top;\n",
       "    }\n",
       "\n",
       "    .dataframe thead th {\n",
       "        text-align: right;\n",
       "    }\n",
       "</style>\n",
       "<table border=\"1\" class=\"dataframe\">\n",
       "  <thead>\n",
       "    <tr style=\"text-align: right;\">\n",
       "      <th>Year</th>\n",
       "      <th>2006</th>\n",
       "      <th>2007</th>\n",
       "      <th>2008</th>\n",
       "      <th>2009</th>\n",
       "      <th>2010</th>\n",
       "      <th>2011</th>\n",
       "      <th>2012</th>\n",
       "      <th>CName</th>\n",
       "    </tr>\n",
       "    <tr>\n",
       "      <th>County</th>\n",
       "      <th></th>\n",
       "      <th></th>\n",
       "      <th></th>\n",
       "      <th></th>\n",
       "      <th></th>\n",
       "      <th></th>\n",
       "      <th></th>\n",
       "      <th></th>\n",
       "    </tr>\n",
       "  </thead>\n",
       "  <tbody>\n",
       "    <tr>\n",
       "      <th>Addison County, VT</th>\n",
       "      <td>NaN</td>\n",
       "      <td>NaN</td>\n",
       "      <td>NaN</td>\n",
       "      <td>NaN</td>\n",
       "      <td>NaN</td>\n",
       "      <td>NaN</td>\n",
       "      <td>NaN</td>\n",
       "      <td>Addison</td>\n",
       "    </tr>\n",
       "    <tr>\n",
       "      <th>Androscoggin County, ME</th>\n",
       "      <td>NaN</td>\n",
       "      <td>NaN</td>\n",
       "      <td>NaN</td>\n",
       "      <td>10</td>\n",
       "      <td>11</td>\n",
       "      <td>NaN</td>\n",
       "      <td>NaN</td>\n",
       "      <td>Androscoggin</td>\n",
       "    </tr>\n",
       "    <tr>\n",
       "      <th>Aroostook County, ME</th>\n",
       "      <td>NaN</td>\n",
       "      <td>NaN</td>\n",
       "      <td>NaN</td>\n",
       "      <td>NaN</td>\n",
       "      <td>NaN</td>\n",
       "      <td>NaN</td>\n",
       "      <td>NaN</td>\n",
       "      <td>Aroostook</td>\n",
       "    </tr>\n",
       "    <tr>\n",
       "      <th>Barnstable County, MA</th>\n",
       "      <td>22</td>\n",
       "      <td>29</td>\n",
       "      <td>22</td>\n",
       "      <td>20</td>\n",
       "      <td>20</td>\n",
       "      <td>16</td>\n",
       "      <td>19</td>\n",
       "      <td>Barnstable</td>\n",
       "    </tr>\n",
       "    <tr>\n",
       "      <th>Belknap County, NH</th>\n",
       "      <td>NaN</td>\n",
       "      <td>12</td>\n",
       "      <td>10</td>\n",
       "      <td>NaN</td>\n",
       "      <td>NaN</td>\n",
       "      <td>NaN</td>\n",
       "      <td>NaN</td>\n",
       "      <td>Belknap</td>\n",
       "    </tr>\n",
       "  </tbody>\n",
       "</table>\n",
       "</div>"
      ],
      "text/plain": [
       "Year                     2006  2007  2008  2009  2010  2011  2012  \\\n",
       "County                                                              \n",
       "Addison County, VT        NaN   NaN   NaN   NaN   NaN   NaN   NaN   \n",
       "Androscoggin County, ME   NaN   NaN   NaN    10    11   NaN   NaN   \n",
       "Aroostook County, ME      NaN   NaN   NaN   NaN   NaN   NaN   NaN   \n",
       "Barnstable County, MA      22    29    22    20    20    16    19   \n",
       "Belknap County, NH        NaN    12    10   NaN   NaN   NaN   NaN   \n",
       "\n",
       "Year                            CName  \n",
       "County                                 \n",
       "Addison County, VT            Addison  \n",
       "Androscoggin County, ME  Androscoggin  \n",
       "Aroostook County, ME        Aroostook  \n",
       "Barnstable County, MA      Barnstable  \n",
       "Belknap County, NH            Belknap  "
      ]
     },
     "execution_count": 14,
     "metadata": {},
     "output_type": "execute_result"
    }
   ],
   "source": [
    "deathspivot.head()"
   ]
  },
  {
   "cell_type": "code",
   "execution_count": 15,
   "metadata": {},
   "outputs": [
    {
     "data": {
      "text/plain": [
       "Index([2006, 2007, 2008, 2009, 2010, 2011, 2012, 'CName'], dtype='object', name='Year')"
      ]
     },
     "execution_count": 15,
     "metadata": {},
     "output_type": "execute_result"
    }
   ],
   "source": [
    "deathspivot.columns"
   ]
  },
  {
   "cell_type": "code",
   "execution_count": 20,
   "metadata": {},
   "outputs": [
    {
     "data": {
      "text/plain": [
       "dict_keys(['2006', '2007', '2008', '2009', '2010', '2011', '2012'])"
      ]
     },
     "execution_count": 20,
     "metadata": {},
     "output_type": "execute_result"
    }
   ],
   "source": [
    "pivotByYear.keys()"
   ]
  },
  {
   "cell_type": "code",
   "execution_count": 24,
   "metadata": {},
   "outputs": [
    {
     "data": {
      "text/html": [
       "<div>\n",
       "<style scoped>\n",
       "    .dataframe tbody tr th:only-of-type {\n",
       "        vertical-align: middle;\n",
       "    }\n",
       "\n",
       "    .dataframe tbody tr th {\n",
       "        vertical-align: top;\n",
       "    }\n",
       "\n",
       "    .dataframe thead th {\n",
       "        text-align: right;\n",
       "    }\n",
       "</style>\n",
       "<table border=\"1\" class=\"dataframe\">\n",
       "  <thead>\n",
       "    <tr style=\"text-align: right;\">\n",
       "      <th>TRANSACTION_DATE</th>\n",
       "      <th>2007</th>\n",
       "    </tr>\n",
       "    <tr>\n",
       "      <th>BUYER_COUNTY</th>\n",
       "      <th></th>\n",
       "    </tr>\n",
       "  </thead>\n",
       "  <tbody>\n",
       "    <tr>\n",
       "      <th>ADDISON</th>\n",
       "      <td>844900</td>\n",
       "    </tr>\n",
       "    <tr>\n",
       "      <th>AGUADA</th>\n",
       "      <td>49500</td>\n",
       "    </tr>\n",
       "    <tr>\n",
       "      <th>AGUADILLA</th>\n",
       "      <td>184800</td>\n",
       "    </tr>\n",
       "    <tr>\n",
       "      <th>AGUAS BUENAS</th>\n",
       "      <td>29400</td>\n",
       "    </tr>\n",
       "    <tr>\n",
       "      <th>ALACHUA</th>\n",
       "      <td>8139364</td>\n",
       "    </tr>\n",
       "  </tbody>\n",
       "</table>\n",
       "</div>"
      ],
      "text/plain": [
       "TRANSACTION_DATE     2007\n",
       "BUYER_COUNTY             \n",
       "ADDISON            844900\n",
       "AGUADA              49500\n",
       "AGUADILLA          184800\n",
       "AGUAS BUENAS        29400\n",
       "ALACHUA           8139364"
      ]
     },
     "execution_count": 24,
     "metadata": {},
     "output_type": "execute_result"
    }
   ],
   "source": [
    "pivotByYear['2007'].head()"
   ]
  },
  {
   "cell_type": "code",
   "execution_count": 25,
   "metadata": {},
   "outputs": [
    {
     "data": {
      "text/html": [
       "<div>\n",
       "<style scoped>\n",
       "    .dataframe tbody tr th:only-of-type {\n",
       "        vertical-align: middle;\n",
       "    }\n",
       "\n",
       "    .dataframe tbody tr th {\n",
       "        vertical-align: top;\n",
       "    }\n",
       "\n",
       "    .dataframe thead th {\n",
       "        text-align: right;\n",
       "    }\n",
       "</style>\n",
       "<table border=\"1\" class=\"dataframe\">\n",
       "  <thead>\n",
       "    <tr style=\"text-align: right;\">\n",
       "      <th></th>\n",
       "      <th>STATEFP</th>\n",
       "      <th>COUNTYFP</th>\n",
       "      <th>COUNTYNS</th>\n",
       "      <th>AFFGEOID</th>\n",
       "      <th>GEOID</th>\n",
       "      <th>NAME</th>\n",
       "      <th>LSAD</th>\n",
       "      <th>ALAND</th>\n",
       "      <th>AWATER</th>\n",
       "      <th>geometry</th>\n",
       "    </tr>\n",
       "  </thead>\n",
       "  <tbody>\n",
       "    <tr>\n",
       "      <th>56</th>\n",
       "      <td>09</td>\n",
       "      <td>009</td>\n",
       "      <td>00212798</td>\n",
       "      <td>0500000US09009</td>\n",
       "      <td>09009</td>\n",
       "      <td>New Haven</td>\n",
       "      <td>06</td>\n",
       "      <td>1565688367</td>\n",
       "      <td>667081242</td>\n",
       "      <td>MULTIPOLYGON (((-72.76143 41.24233, -72.75973 ...</td>\n",
       "    </tr>\n",
       "    <tr>\n",
       "      <th>142</th>\n",
       "      <td>23</td>\n",
       "      <td>013</td>\n",
       "      <td>00581292</td>\n",
       "      <td>0500000US23013</td>\n",
       "      <td>23013</td>\n",
       "      <td>Knox</td>\n",
       "      <td>06</td>\n",
       "      <td>945684684</td>\n",
       "      <td>2017116243</td>\n",
       "      <td>MULTIPOLYGON (((-68.55926 44.04502, -68.55504 ...</td>\n",
       "    </tr>\n",
       "    <tr>\n",
       "      <th>143</th>\n",
       "      <td>23</td>\n",
       "      <td>015</td>\n",
       "      <td>00581293</td>\n",
       "      <td>0500000US23015</td>\n",
       "      <td>23015</td>\n",
       "      <td>Lincoln</td>\n",
       "      <td>06</td>\n",
       "      <td>1180688991</td>\n",
       "      <td>631299424</td>\n",
       "      <td>MULTIPOLYGON (((-69.32357 43.75899, -69.32114 ...</td>\n",
       "    </tr>\n",
       "    <tr>\n",
       "      <th>270</th>\n",
       "      <td>25</td>\n",
       "      <td>001</td>\n",
       "      <td>00606927</td>\n",
       "      <td>0500000US25001</td>\n",
       "      <td>25001</td>\n",
       "      <td>Barnstable</td>\n",
       "      <td>06</td>\n",
       "      <td>1021048430</td>\n",
       "      <td>2360287543</td>\n",
       "      <td>POLYGON ((-70.68698 41.52949, -70.68327 41.532...</td>\n",
       "    </tr>\n",
       "    <tr>\n",
       "      <th>271</th>\n",
       "      <td>25</td>\n",
       "      <td>013</td>\n",
       "      <td>00606933</td>\n",
       "      <td>0500000US25013</td>\n",
       "      <td>25013</td>\n",
       "      <td>Hampden</td>\n",
       "      <td>06</td>\n",
       "      <td>1597996708</td>\n",
       "      <td>44417070</td>\n",
       "      <td>POLYGON ((-73.07484 42.10615, -73.07305 42.106...</td>\n",
       "    </tr>\n",
       "  </tbody>\n",
       "</table>\n",
       "</div>"
      ],
      "text/plain": [
       "    STATEFP COUNTYFP  COUNTYNS        AFFGEOID  GEOID        NAME LSAD  \\\n",
       "56       09      009  00212798  0500000US09009  09009   New Haven   06   \n",
       "142      23      013  00581292  0500000US23013  23013        Knox   06   \n",
       "143      23      015  00581293  0500000US23015  23015     Lincoln   06   \n",
       "270      25      001  00606927  0500000US25001  25001  Barnstable   06   \n",
       "271      25      013  00606933  0500000US25013  25013     Hampden   06   \n",
       "\n",
       "          ALAND      AWATER                                           geometry  \n",
       "56   1565688367   667081242  MULTIPOLYGON (((-72.76143 41.24233, -72.75973 ...  \n",
       "142   945684684  2017116243  MULTIPOLYGON (((-68.55926 44.04502, -68.55504 ...  \n",
       "143  1180688991   631299424  MULTIPOLYGON (((-69.32357 43.75899, -69.32114 ...  \n",
       "270  1021048430  2360287543  POLYGON ((-70.68698 41.52949, -70.68327 41.532...  \n",
       "271  1597996708    44417070  POLYGON ((-73.07484 42.10615, -73.07305 42.106...  "
      ]
     },
     "execution_count": 25,
     "metadata": {},
     "output_type": "execute_result"
    }
   ],
   "source": [
    "necounties.head()"
   ]
  },
  {
   "cell_type": "code",
   "execution_count": null,
   "metadata": {},
   "outputs": [],
   "source": []
  }
 ],
 "metadata": {
  "kernelspec": {
   "display_name": "Python 3",
   "language": "python",
   "name": "python3"
  },
  "language_info": {
   "codemirror_mode": {
    "name": "ipython",
    "version": 3
   },
   "file_extension": ".py",
   "mimetype": "text/x-python",
   "name": "python",
   "nbconvert_exporter": "python",
   "pygments_lexer": "ipython3",
   "version": "3.6.7"
  }
 },
 "nbformat": 4,
 "nbformat_minor": 4
}
